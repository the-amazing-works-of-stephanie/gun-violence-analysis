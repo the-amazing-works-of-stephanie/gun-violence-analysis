{
 "cells": [
  {
   "cell_type": "code",
   "execution_count": 1,
   "metadata": {
    "collapsed": true
   },
   "outputs": [],
   "source": [
    "# insert rickroll here ayyye"
   ]
  },
  {
   "cell_type": "code",
   "execution_count": 2,
   "outputs": [],
   "source": [
    "import csv\n",
    "import os\n",
    "import requests\n",
    "import pandas as pd\n",
    "import tabula\n",
    "from bs4 import BeautifulSoup\n",
    "import matplotlib.pyplot as plt\n",
    "from statistics import mean"
   ],
   "metadata": {
    "collapsed": false,
    "pycharm": {
     "name": "#%%\n"
    }
   }
  },
  {
   "cell_type": "markdown",
   "metadata": {
    "collapsed": false
   },
   "source": [
    "Part 1: Data collection/curation + parsing\n",
    "\n",
    "We have decided to use two sets of data for this project, each involving many countries around the world: gun ownership,\n",
    "and a collection of homicide rates. The number of guns possessed by civilians in each country cannot stand alone as an indicator of gun violence, as people\n",
    "kill other people--guns do not.\n",
    "\n",
    "The gun ownership data originated from smallarmssurvey.org, an organization that\n",
    "maintains databases on small arms-related statistics worldwide: violent deaths, firearms holdings, etc. We felt that the\n",
    "data, given the organization's focus on impartial analysis, would be thorough and well-researched.\n",
    "\n",
    "The homicide rate data originated from the United Nations Office on Drugs and Crime. We shouldn't need to expand on their\n",
    "reputation, but the data appears to be extremely thorough.\n",
    "\n",
    "NOTE: should we look for suicide by gun rates, too? What about population?"
   ]
  },
  {
   "cell_type": "code",
   "execution_count": 3,
   "outputs": [
    {
     "data": {
      "text/plain": "    country_code                country    region        subregion  \\\n5            AFG            Afghanistan      Asia    Southern Asia   \n6            ALB                Albania    Europe  Southern Europe   \n7            DZA                Algeria    Africa  Northern Africa   \n8            ASM         American Samoa   Oceania        Polynesia   \n9            AND                Andorra    Europe  Southern Europe   \n..           ...                    ...       ...              ...   \n266          VGB  Virgin Islands (U.K.)  Americas        Caribbean   \n267          VIR  Virgin Islands (U.S.)  Americas        Caribbean   \n268          YEM                  Yemen      Asia     Western Asia   \n269          ZMB                 Zambia    Africa   Eastern Africa   \n270          ZWE               Zimbabwe    Africa   Eastern Africa   \n\n     population total_est_guns est_of_guns_per_100_ppl  comp_method  \\\n5    34,169,000      4,270,000                    12.5          2.0   \n6     2,911,000        350,000                    12.0          2.0   \n7    41,064,000        877,000                     2.1          2.0   \n8        56,000            400                     0.7          2.0   \n9        69,000         10,000                    14.1          3.0   \n..          ...            ...                     ...          ...   \n266      31,000            300                     0.8          2.0   \n267     107,000         18,000                    16.6          2.0   \n268  28,120,000     14,859,000                    52.8          2.0   \n269  17,238,000        158,000                     0.9          2.0   \n270  16,338,000        455,000                     2.8          2.0   \n\n    registered_guns unregistered_guns  \n5               NaN               NaN  \n6            65,747           284,253  \n7           200,000           677,000  \n8               250               150  \n9             7,599             2,401  \n..              ...               ...  \n266              48               252  \n267             NaN               NaN  \n268             NaN               NaN  \n269          86,642            71,358  \n270         190,685           264,315  \n\n[266 rows x 10 columns]",
      "text/html": "<div>\n<style scoped>\n    .dataframe tbody tr th:only-of-type {\n        vertical-align: middle;\n    }\n\n    .dataframe tbody tr th {\n        vertical-align: top;\n    }\n\n    .dataframe thead th {\n        text-align: right;\n    }\n</style>\n<table border=\"1\" class=\"dataframe\">\n  <thead>\n    <tr style=\"text-align: right;\">\n      <th></th>\n      <th>country_code</th>\n      <th>country</th>\n      <th>region</th>\n      <th>subregion</th>\n      <th>population</th>\n      <th>total_est_guns</th>\n      <th>est_of_guns_per_100_ppl</th>\n      <th>comp_method</th>\n      <th>registered_guns</th>\n      <th>unregistered_guns</th>\n    </tr>\n  </thead>\n  <tbody>\n    <tr>\n      <th>5</th>\n      <td>AFG</td>\n      <td>Afghanistan</td>\n      <td>Asia</td>\n      <td>Southern Asia</td>\n      <td>34,169,000</td>\n      <td>4,270,000</td>\n      <td>12.5</td>\n      <td>2.0</td>\n      <td>NaN</td>\n      <td>NaN</td>\n    </tr>\n    <tr>\n      <th>6</th>\n      <td>ALB</td>\n      <td>Albania</td>\n      <td>Europe</td>\n      <td>Southern Europe</td>\n      <td>2,911,000</td>\n      <td>350,000</td>\n      <td>12.0</td>\n      <td>2.0</td>\n      <td>65,747</td>\n      <td>284,253</td>\n    </tr>\n    <tr>\n      <th>7</th>\n      <td>DZA</td>\n      <td>Algeria</td>\n      <td>Africa</td>\n      <td>Northern Africa</td>\n      <td>41,064,000</td>\n      <td>877,000</td>\n      <td>2.1</td>\n      <td>2.0</td>\n      <td>200,000</td>\n      <td>677,000</td>\n    </tr>\n    <tr>\n      <th>8</th>\n      <td>ASM</td>\n      <td>American Samoa</td>\n      <td>Oceania</td>\n      <td>Polynesia</td>\n      <td>56,000</td>\n      <td>400</td>\n      <td>0.7</td>\n      <td>2.0</td>\n      <td>250</td>\n      <td>150</td>\n    </tr>\n    <tr>\n      <th>9</th>\n      <td>AND</td>\n      <td>Andorra</td>\n      <td>Europe</td>\n      <td>Southern Europe</td>\n      <td>69,000</td>\n      <td>10,000</td>\n      <td>14.1</td>\n      <td>3.0</td>\n      <td>7,599</td>\n      <td>2,401</td>\n    </tr>\n    <tr>\n      <th>...</th>\n      <td>...</td>\n      <td>...</td>\n      <td>...</td>\n      <td>...</td>\n      <td>...</td>\n      <td>...</td>\n      <td>...</td>\n      <td>...</td>\n      <td>...</td>\n      <td>...</td>\n    </tr>\n    <tr>\n      <th>266</th>\n      <td>VGB</td>\n      <td>Virgin Islands (U.K.)</td>\n      <td>Americas</td>\n      <td>Caribbean</td>\n      <td>31,000</td>\n      <td>300</td>\n      <td>0.8</td>\n      <td>2.0</td>\n      <td>48</td>\n      <td>252</td>\n    </tr>\n    <tr>\n      <th>267</th>\n      <td>VIR</td>\n      <td>Virgin Islands (U.S.)</td>\n      <td>Americas</td>\n      <td>Caribbean</td>\n      <td>107,000</td>\n      <td>18,000</td>\n      <td>16.6</td>\n      <td>2.0</td>\n      <td>NaN</td>\n      <td>NaN</td>\n    </tr>\n    <tr>\n      <th>268</th>\n      <td>YEM</td>\n      <td>Yemen</td>\n      <td>Asia</td>\n      <td>Western Asia</td>\n      <td>28,120,000</td>\n      <td>14,859,000</td>\n      <td>52.8</td>\n      <td>2.0</td>\n      <td>NaN</td>\n      <td>NaN</td>\n    </tr>\n    <tr>\n      <th>269</th>\n      <td>ZMB</td>\n      <td>Zambia</td>\n      <td>Africa</td>\n      <td>Eastern Africa</td>\n      <td>17,238,000</td>\n      <td>158,000</td>\n      <td>0.9</td>\n      <td>2.0</td>\n      <td>86,642</td>\n      <td>71,358</td>\n    </tr>\n    <tr>\n      <th>270</th>\n      <td>ZWE</td>\n      <td>Zimbabwe</td>\n      <td>Africa</td>\n      <td>Eastern Africa</td>\n      <td>16,338,000</td>\n      <td>455,000</td>\n      <td>2.8</td>\n      <td>2.0</td>\n      <td>190,685</td>\n      <td>264,315</td>\n    </tr>\n  </tbody>\n</table>\n<p>266 rows × 10 columns</p>\n</div>"
     },
     "execution_count": 3,
     "metadata": {},
     "output_type": "execute_result"
    }
   ],
   "source": [
    "# opening the homicide rate file\n",
    "#NOTE: not sure how to scrape this one off the internet, so downloaded data manually and stuck inside the project\n",
    "homicide_rates = pd.read_csv('united_nations_homicide_rate_by_mechanisms.csv')\n",
    "\n",
    "#opening the gun ownership data\n",
    "url = \"http://www.smallarmssurvey.org/fileadmin/docs/Weapons_and_Markets/Tools/Firearms_holdings/SAS-BP-Civilian-held-firearms-annexe.pdf\"\n",
    "got_gun = tabula.io.read_pdf(url, output_format='dataframe', pages='all')\n",
    "\n",
    "#rename columns\n",
    "got_gun[0].columns=['country_code', 'country', 'region', 'subregion', 'population', 'total_est_guns', 'est_of_guns_per_100_ppl', 'delete1', 'comp_method', 'registered_guns', 'delete2', 'unregistered_guns']\n",
    "\n",
    "#drop some unnecessary columns & rows\n",
    "got_gun[0].drop(range(0,5), inplace=True)\n",
    "#NOTE: should we delete some other columns? is all of these data relevant for our project?\n",
    "got_gun[0].drop(columns=['delete1', 'delete2'], inplace=True)\n",
    "\n",
    "got_gun[0]"
   ],
   "metadata": {
    "collapsed": false,
    "pycharm": {
     "name": "#%%\n"
    }
   }
  },
  {
   "cell_type": "code",
   "execution_count": 4,
   "metadata": {},
   "outputs": [
    {
     "data": {
      "text/plain": "         Country                                 Indicator   Region  \\\n0          India                      homicide by Firearms     Asia   \n1          India                             Firearms rate     Asia   \n2          India                      homicide by Firearms     Asia   \n3          India                             Firearms rate     Asia   \n4          India                      homicide by Firearms     Asia   \n...          ...                                       ...      ...   \n17603  Australia       Male Homicide by Unknown Mechanisms  Oceania   \n17604  Australia    Male Homicide rate by Other Mechanisms  Oceania   \n17605  Australia  Male Homicide rate by Unknown Mechanisms  Oceania   \n17606  Australia                      Other Mechanism rate  Oceania   \n17607  Australia                    Unknown Mechanism rate  Oceania   \n\n                       Subregion   Unit  Year  Clear  Female Firearm chart  \\\n0                  Southern Asia  Count  1999      0                   NaN   \n1                  Southern Asia   Rate  1999      0                   NaN   \n2                  Southern Asia  Count  2000      0                   NaN   \n3                  Southern Asia   Rate  2000      0                   NaN   \n4                  Southern Asia  Count  2001      0                   NaN   \n...                          ...    ...   ...    ...                   ...   \n17603  Australia and New Zealand  Count  2017      0                   NaN   \n17604  Australia and New Zealand   Rate  2017      0                   NaN   \n17605  Australia and New Zealand   Rate  2017      0                   NaN   \n17606  Australia and New Zealand   Rate  2017      0                   NaN   \n17607  Australia and New Zealand   Rate  2017      0                   NaN   \n\n       Female Firearms  Female Other    ...  Male Other   Male Other chart   \\\n0                  NaN             NaN  ...          NaN                NaN   \n1                  NaN             NaN  ...          NaN                NaN   \n2                  NaN             NaN  ...          NaN                NaN   \n3                  NaN             NaN  ...          NaN                NaN   \n4                  NaN             NaN  ...          NaN                NaN   \n...                ...             ...  ...          ...                ...   \n17603              NaN             NaN  ...          NaN                NaN   \n17604              NaN             NaN  ...          0.5                NaN   \n17605              NaN             NaN  ...          NaN                NaN   \n17606              NaN             NaN  ...          NaN                NaN   \n17607              NaN             NaN  ...          NaN                NaN   \n\n       Male Sharp  Male Sharp chart  Male Unknown  Male Unknown chart   \\\n0             NaN               NaN           NaN                  NaN   \n1             NaN               NaN           NaN                  NaN   \n2             NaN               NaN           NaN                  NaN   \n3             NaN               NaN           NaN                  NaN   \n4             NaN               NaN           NaN                  NaN   \n...           ...               ...           ...                  ...   \n17603         NaN               NaN           NaN                  NaN   \n17604         NaN               NaN           NaN                  NaN   \n17605         NaN               NaN           0.0                  0.0   \n17606         NaN               NaN           NaN                  NaN   \n17607         NaN               NaN           NaN                  NaN   \n\n       Number of Records  Onlyrates   rate  Round rate and count  \n0                      1        NaN  9,294                 9,294  \n1                      1        NaN    0.9                   0.9  \n2                      1        NaN  8,370                 8,370  \n3                      1        NaN    0.8                   0.8  \n4                      1        NaN  8,019                 8,019  \n...                  ...        ...    ...                   ...  \n17603                  1        NaN      4                     4  \n17604                  1        NaN    0.5                   0.5  \n17605                  1        NaN      0                     0  \n17606                  1        NaN    0.3                   0.3  \n17607                  1        0.0      0                     0  \n\n[17608 rows x 27 columns]",
      "text/html": "<div>\n<style scoped>\n    .dataframe tbody tr th:only-of-type {\n        vertical-align: middle;\n    }\n\n    .dataframe tbody tr th {\n        vertical-align: top;\n    }\n\n    .dataframe thead th {\n        text-align: right;\n    }\n</style>\n<table border=\"1\" class=\"dataframe\">\n  <thead>\n    <tr style=\"text-align: right;\">\n      <th></th>\n      <th>Country</th>\n      <th>Indicator</th>\n      <th>Region</th>\n      <th>Subregion</th>\n      <th>Unit</th>\n      <th>Year</th>\n      <th>Clear</th>\n      <th>Female Firearm chart</th>\n      <th>Female Firearms</th>\n      <th>Female Other</th>\n      <th>...</th>\n      <th>Male Other</th>\n      <th>Male Other chart</th>\n      <th>Male Sharp</th>\n      <th>Male Sharp chart</th>\n      <th>Male Unknown</th>\n      <th>Male Unknown chart</th>\n      <th>Number of Records</th>\n      <th>Onlyrates</th>\n      <th>rate</th>\n      <th>Round rate and count</th>\n    </tr>\n  </thead>\n  <tbody>\n    <tr>\n      <th>0</th>\n      <td>India</td>\n      <td>homicide by Firearms</td>\n      <td>Asia</td>\n      <td>Southern Asia</td>\n      <td>Count</td>\n      <td>1999</td>\n      <td>0</td>\n      <td>NaN</td>\n      <td>NaN</td>\n      <td>NaN</td>\n      <td>...</td>\n      <td>NaN</td>\n      <td>NaN</td>\n      <td>NaN</td>\n      <td>NaN</td>\n      <td>NaN</td>\n      <td>NaN</td>\n      <td>1</td>\n      <td>NaN</td>\n      <td>9,294</td>\n      <td>9,294</td>\n    </tr>\n    <tr>\n      <th>1</th>\n      <td>India</td>\n      <td>Firearms rate</td>\n      <td>Asia</td>\n      <td>Southern Asia</td>\n      <td>Rate</td>\n      <td>1999</td>\n      <td>0</td>\n      <td>NaN</td>\n      <td>NaN</td>\n      <td>NaN</td>\n      <td>...</td>\n      <td>NaN</td>\n      <td>NaN</td>\n      <td>NaN</td>\n      <td>NaN</td>\n      <td>NaN</td>\n      <td>NaN</td>\n      <td>1</td>\n      <td>NaN</td>\n      <td>0.9</td>\n      <td>0.9</td>\n    </tr>\n    <tr>\n      <th>2</th>\n      <td>India</td>\n      <td>homicide by Firearms</td>\n      <td>Asia</td>\n      <td>Southern Asia</td>\n      <td>Count</td>\n      <td>2000</td>\n      <td>0</td>\n      <td>NaN</td>\n      <td>NaN</td>\n      <td>NaN</td>\n      <td>...</td>\n      <td>NaN</td>\n      <td>NaN</td>\n      <td>NaN</td>\n      <td>NaN</td>\n      <td>NaN</td>\n      <td>NaN</td>\n      <td>1</td>\n      <td>NaN</td>\n      <td>8,370</td>\n      <td>8,370</td>\n    </tr>\n    <tr>\n      <th>3</th>\n      <td>India</td>\n      <td>Firearms rate</td>\n      <td>Asia</td>\n      <td>Southern Asia</td>\n      <td>Rate</td>\n      <td>2000</td>\n      <td>0</td>\n      <td>NaN</td>\n      <td>NaN</td>\n      <td>NaN</td>\n      <td>...</td>\n      <td>NaN</td>\n      <td>NaN</td>\n      <td>NaN</td>\n      <td>NaN</td>\n      <td>NaN</td>\n      <td>NaN</td>\n      <td>1</td>\n      <td>NaN</td>\n      <td>0.8</td>\n      <td>0.8</td>\n    </tr>\n    <tr>\n      <th>4</th>\n      <td>India</td>\n      <td>homicide by Firearms</td>\n      <td>Asia</td>\n      <td>Southern Asia</td>\n      <td>Count</td>\n      <td>2001</td>\n      <td>0</td>\n      <td>NaN</td>\n      <td>NaN</td>\n      <td>NaN</td>\n      <td>...</td>\n      <td>NaN</td>\n      <td>NaN</td>\n      <td>NaN</td>\n      <td>NaN</td>\n      <td>NaN</td>\n      <td>NaN</td>\n      <td>1</td>\n      <td>NaN</td>\n      <td>8,019</td>\n      <td>8,019</td>\n    </tr>\n    <tr>\n      <th>...</th>\n      <td>...</td>\n      <td>...</td>\n      <td>...</td>\n      <td>...</td>\n      <td>...</td>\n      <td>...</td>\n      <td>...</td>\n      <td>...</td>\n      <td>...</td>\n      <td>...</td>\n      <td>...</td>\n      <td>...</td>\n      <td>...</td>\n      <td>...</td>\n      <td>...</td>\n      <td>...</td>\n      <td>...</td>\n      <td>...</td>\n      <td>...</td>\n      <td>...</td>\n      <td>...</td>\n    </tr>\n    <tr>\n      <th>17603</th>\n      <td>Australia</td>\n      <td>Male Homicide by Unknown Mechanisms</td>\n      <td>Oceania</td>\n      <td>Australia and New Zealand</td>\n      <td>Count</td>\n      <td>2017</td>\n      <td>0</td>\n      <td>NaN</td>\n      <td>NaN</td>\n      <td>NaN</td>\n      <td>...</td>\n      <td>NaN</td>\n      <td>NaN</td>\n      <td>NaN</td>\n      <td>NaN</td>\n      <td>NaN</td>\n      <td>NaN</td>\n      <td>1</td>\n      <td>NaN</td>\n      <td>4</td>\n      <td>4</td>\n    </tr>\n    <tr>\n      <th>17604</th>\n      <td>Australia</td>\n      <td>Male Homicide rate by Other Mechanisms</td>\n      <td>Oceania</td>\n      <td>Australia and New Zealand</td>\n      <td>Rate</td>\n      <td>2017</td>\n      <td>0</td>\n      <td>NaN</td>\n      <td>NaN</td>\n      <td>NaN</td>\n      <td>...</td>\n      <td>0.5</td>\n      <td>NaN</td>\n      <td>NaN</td>\n      <td>NaN</td>\n      <td>NaN</td>\n      <td>NaN</td>\n      <td>1</td>\n      <td>NaN</td>\n      <td>0.5</td>\n      <td>0.5</td>\n    </tr>\n    <tr>\n      <th>17605</th>\n      <td>Australia</td>\n      <td>Male Homicide rate by Unknown Mechanisms</td>\n      <td>Oceania</td>\n      <td>Australia and New Zealand</td>\n      <td>Rate</td>\n      <td>2017</td>\n      <td>0</td>\n      <td>NaN</td>\n      <td>NaN</td>\n      <td>NaN</td>\n      <td>...</td>\n      <td>NaN</td>\n      <td>NaN</td>\n      <td>NaN</td>\n      <td>NaN</td>\n      <td>0.0</td>\n      <td>0.0</td>\n      <td>1</td>\n      <td>NaN</td>\n      <td>0</td>\n      <td>0</td>\n    </tr>\n    <tr>\n      <th>17606</th>\n      <td>Australia</td>\n      <td>Other Mechanism rate</td>\n      <td>Oceania</td>\n      <td>Australia and New Zealand</td>\n      <td>Rate</td>\n      <td>2017</td>\n      <td>0</td>\n      <td>NaN</td>\n      <td>NaN</td>\n      <td>NaN</td>\n      <td>...</td>\n      <td>NaN</td>\n      <td>NaN</td>\n      <td>NaN</td>\n      <td>NaN</td>\n      <td>NaN</td>\n      <td>NaN</td>\n      <td>1</td>\n      <td>NaN</td>\n      <td>0.3</td>\n      <td>0.3</td>\n    </tr>\n    <tr>\n      <th>17607</th>\n      <td>Australia</td>\n      <td>Unknown Mechanism rate</td>\n      <td>Oceania</td>\n      <td>Australia and New Zealand</td>\n      <td>Rate</td>\n      <td>2017</td>\n      <td>0</td>\n      <td>NaN</td>\n      <td>NaN</td>\n      <td>NaN</td>\n      <td>...</td>\n      <td>NaN</td>\n      <td>NaN</td>\n      <td>NaN</td>\n      <td>NaN</td>\n      <td>NaN</td>\n      <td>NaN</td>\n      <td>1</td>\n      <td>0.0</td>\n      <td>0</td>\n      <td>0</td>\n    </tr>\n  </tbody>\n</table>\n<p>17608 rows × 27 columns</p>\n</div>"
     },
     "execution_count": 4,
     "metadata": {},
     "output_type": "execute_result"
    }
   ],
   "source": [
    "homicide_rates"
   ]
  },
  {
   "cell_type": "markdown",
   "source": [
    "Part 2: Data management/representation"
   ],
   "metadata": {
    "collapsed": false
   }
  },
  {
   "cell_type": "code",
   "execution_count": 5,
   "metadata": {},
   "outputs": [
    {
     "data": {
      "text/plain": "    country_code                country    region        subregion  \\\n5            AFG            Afghanistan      Asia    Southern Asia   \n6            ALB                Albania    Europe  Southern Europe   \n7            DZA                Algeria    Africa  Northern Africa   \n8            ASM         American Samoa   Oceania        Polynesia   \n9            AND                Andorra    Europe  Southern Europe   \n..           ...                    ...       ...              ...   \n266          VGB  Virgin Islands (U.K.)  Americas        Caribbean   \n267          VIR  Virgin Islands (U.S.)  Americas        Caribbean   \n268          YEM                  Yemen      Asia     Western Asia   \n269          ZMB                 Zambia    Africa   Eastern Africa   \n270          ZWE               Zimbabwe    Africa   Eastern Africa   \n\n     population total_est_guns est_of_guns_per_100_ppl  comp_method  \\\n5    34,169,000      4,270,000                    12.5          2.0   \n6     2,911,000        350,000                    12.0          2.0   \n7    41,064,000        877,000                     2.1          2.0   \n8        56,000            400                     0.7          2.0   \n9        69,000         10,000                    14.1          3.0   \n..          ...            ...                     ...          ...   \n266      31,000            300                     0.8          2.0   \n267     107,000         18,000                    16.6          2.0   \n268  28,120,000     14,859,000                    52.8          2.0   \n269  17,238,000        158,000                     0.9          2.0   \n270  16,338,000        455,000                     2.8          2.0   \n\n    registered_guns unregistered_guns  \n5               NaN               NaN  \n6            65,747           284,253  \n7           200,000           677,000  \n8               250               150  \n9             7,599             2,401  \n..              ...               ...  \n266              48               252  \n267             NaN               NaN  \n268             NaN               NaN  \n269          86,642            71,358  \n270         190,685           264,315  \n\n[230 rows x 10 columns]",
      "text/html": "<div>\n<style scoped>\n    .dataframe tbody tr th:only-of-type {\n        vertical-align: middle;\n    }\n\n    .dataframe tbody tr th {\n        vertical-align: top;\n    }\n\n    .dataframe thead th {\n        text-align: right;\n    }\n</style>\n<table border=\"1\" class=\"dataframe\">\n  <thead>\n    <tr style=\"text-align: right;\">\n      <th></th>\n      <th>country_code</th>\n      <th>country</th>\n      <th>region</th>\n      <th>subregion</th>\n      <th>population</th>\n      <th>total_est_guns</th>\n      <th>est_of_guns_per_100_ppl</th>\n      <th>comp_method</th>\n      <th>registered_guns</th>\n      <th>unregistered_guns</th>\n    </tr>\n  </thead>\n  <tbody>\n    <tr>\n      <th>5</th>\n      <td>AFG</td>\n      <td>Afghanistan</td>\n      <td>Asia</td>\n      <td>Southern Asia</td>\n      <td>34,169,000</td>\n      <td>4,270,000</td>\n      <td>12.5</td>\n      <td>2.0</td>\n      <td>NaN</td>\n      <td>NaN</td>\n    </tr>\n    <tr>\n      <th>6</th>\n      <td>ALB</td>\n      <td>Albania</td>\n      <td>Europe</td>\n      <td>Southern Europe</td>\n      <td>2,911,000</td>\n      <td>350,000</td>\n      <td>12.0</td>\n      <td>2.0</td>\n      <td>65,747</td>\n      <td>284,253</td>\n    </tr>\n    <tr>\n      <th>7</th>\n      <td>DZA</td>\n      <td>Algeria</td>\n      <td>Africa</td>\n      <td>Northern Africa</td>\n      <td>41,064,000</td>\n      <td>877,000</td>\n      <td>2.1</td>\n      <td>2.0</td>\n      <td>200,000</td>\n      <td>677,000</td>\n    </tr>\n    <tr>\n      <th>8</th>\n      <td>ASM</td>\n      <td>American Samoa</td>\n      <td>Oceania</td>\n      <td>Polynesia</td>\n      <td>56,000</td>\n      <td>400</td>\n      <td>0.7</td>\n      <td>2.0</td>\n      <td>250</td>\n      <td>150</td>\n    </tr>\n    <tr>\n      <th>9</th>\n      <td>AND</td>\n      <td>Andorra</td>\n      <td>Europe</td>\n      <td>Southern Europe</td>\n      <td>69,000</td>\n      <td>10,000</td>\n      <td>14.1</td>\n      <td>3.0</td>\n      <td>7,599</td>\n      <td>2,401</td>\n    </tr>\n    <tr>\n      <th>...</th>\n      <td>...</td>\n      <td>...</td>\n      <td>...</td>\n      <td>...</td>\n      <td>...</td>\n      <td>...</td>\n      <td>...</td>\n      <td>...</td>\n      <td>...</td>\n      <td>...</td>\n    </tr>\n    <tr>\n      <th>266</th>\n      <td>VGB</td>\n      <td>Virgin Islands (U.K.)</td>\n      <td>Americas</td>\n      <td>Caribbean</td>\n      <td>31,000</td>\n      <td>300</td>\n      <td>0.8</td>\n      <td>2.0</td>\n      <td>48</td>\n      <td>252</td>\n    </tr>\n    <tr>\n      <th>267</th>\n      <td>VIR</td>\n      <td>Virgin Islands (U.S.)</td>\n      <td>Americas</td>\n      <td>Caribbean</td>\n      <td>107,000</td>\n      <td>18,000</td>\n      <td>16.6</td>\n      <td>2.0</td>\n      <td>NaN</td>\n      <td>NaN</td>\n    </tr>\n    <tr>\n      <th>268</th>\n      <td>YEM</td>\n      <td>Yemen</td>\n      <td>Asia</td>\n      <td>Western Asia</td>\n      <td>28,120,000</td>\n      <td>14,859,000</td>\n      <td>52.8</td>\n      <td>2.0</td>\n      <td>NaN</td>\n      <td>NaN</td>\n    </tr>\n    <tr>\n      <th>269</th>\n      <td>ZMB</td>\n      <td>Zambia</td>\n      <td>Africa</td>\n      <td>Eastern Africa</td>\n      <td>17,238,000</td>\n      <td>158,000</td>\n      <td>0.9</td>\n      <td>2.0</td>\n      <td>86,642</td>\n      <td>71,358</td>\n    </tr>\n    <tr>\n      <th>270</th>\n      <td>ZWE</td>\n      <td>Zimbabwe</td>\n      <td>Africa</td>\n      <td>Eastern Africa</td>\n      <td>16,338,000</td>\n      <td>455,000</td>\n      <td>2.8</td>\n      <td>2.0</td>\n      <td>190,685</td>\n      <td>264,315</td>\n    </tr>\n  </tbody>\n</table>\n<p>230 rows × 10 columns</p>\n</div>"
     },
     "execution_count": 5,
     "metadata": {},
     "output_type": "execute_result"
    }
   ],
   "source": [
    "regions = homicide_rates['Region'].unique()\n",
    "rows = []\n",
    "for row in got_gun[0].iterrows():\n",
    "    if row[1]['region'] in regions:\n",
    "        rows.append(row[1])\n",
    "gun_owners = pd.DataFrame(rows)\n",
    "gun_owners"
   ]
  },
  {
   "cell_type": "code",
   "execution_count": 6,
   "outputs": [],
   "source": [
    "guns_per_region = {}\n",
    "for reg in gun_owners['region'].unique():\n",
    "    guns_per_region[reg] = pd.DataFrame(gun_owners.loc[gun_owners['region'] == reg])"
   ],
   "metadata": {
    "collapsed": false,
    "pycharm": {
     "name": "#%%\n"
    }
   }
  },
  {
   "cell_type": "code",
   "execution_count": 7,
   "metadata": {},
   "outputs": [],
   "source": [
    "years = {}\n",
    "for y in homicide_rates['Year'].unique():\n",
    "    rates = []\n",
    "    data = homicide_rates.loc[homicide_rates['Year'] == y]\n",
    "    for row in data.iterrows():\n",
    "        val = str(row[1]['rate']).replace(\",\", \"\")\n",
    "        val = float(val)\n",
    "        rates.append(val)\n",
    "    years[y] = mean(rates)"
   ]
  },
  {
   "cell_type": "code",
   "execution_count": 8,
   "metadata": {},
   "outputs": [
    {
     "data": {
      "text/plain": "<Figure size 432x288 with 1 Axes>",
      "image/png": "[encoded data removed]"
     },
     "metadata": {
      "needs_background": "light"
     },
     "output_type": "display_data"
    }
   ],
   "source": [
    "x_year = list(years.keys())\n",
    "y_val = list(years.values())\n",
    "\n",
    "fig=plt.figure()\n",
    "ax = fig.add_axes([0,0,1,1])\n",
    "ax.scatter(x_year, y_val, color=\"b\")\n",
    "ax.plot(x_year, y_val)\n",
    "\n",
    "ax.set_xlabel(\"Year\")\n",
    "ax.set_ylabel(\"Avg. Homicide Rate\")\n",
    "ax.set_title(\"Average Worldwide Homicide Rate Over Time\")\n",
    "plt.show()"
   ]
  },
  {
   "cell_type": "code",
   "execution_count": 9,
   "metadata": {},
   "outputs": [],
   "source": [
    "# TODO -- Left off here (mrp)"
   ]
  },
  {
   "cell_type": "markdown",
   "source": [
    "Part 3: Exploratory data analysis"
   ],
   "metadata": {
    "collapsed": false
   }
  },
  {
   "cell_type": "code",
   "execution_count": 10,
   "outputs": [],
   "source": [
    "#stuff"
   ],
   "metadata": {
    "collapsed": false,
    "pycharm": {
     "name": "#%%\n"
    }
   }
  },
  {
   "cell_type": "markdown",
   "source": [
    "Part 4: Hypothesis testing & machine learning"
   ],
   "metadata": {
    "collapsed": false
   }
  },
  {
   "cell_type": "code",
   "execution_count": 11,
   "outputs": [],
   "source": [
    "#wat"
   ],
   "metadata": {
    "collapsed": false,
    "pycharm": {
     "name": "#%%\n"
    }
   }
  },
  {
   "cell_type": "markdown",
   "source": [
    "Part 5: Communication of insights attained"
   ],
   "metadata": {
    "collapsed": false
   }
  },
  {
   "cell_type": "code",
   "execution_count": 12,
   "outputs": [],
   "source": [
    "#um"
   ],
   "metadata": {
    "collapsed": false,
    "pycharm": {
     "name": "#%%\n"
    }
   }
  }
 ],
 "metadata": {
  "kernelspec": {
   "display_name": "Python 3",
   "language": "python",
   "name": "python3"
  },
  "language_info": {
   "codemirror_mode": {
    "name": "ipython",
    "version": 2
   },
   "file_extension": ".py",
   "mimetype": "text/x-python",
   "name": "python",
   "nbconvert_exporter": "python",
   "pygments_lexer": "ipython2",
   "version": "3.8.5-final"
  }
 },
 "nbformat": 4,
 "nbformat_minor": 0
}