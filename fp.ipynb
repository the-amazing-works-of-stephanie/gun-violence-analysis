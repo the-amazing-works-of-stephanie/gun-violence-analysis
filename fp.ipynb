{
 "cells": [
  {
   "cell_type": "code",
   "execution_count": 181,
   "metadata": {
    "collapsed": true
   },
   "outputs": [],
   "source": [
    "# insert rickroll here ayyye"
   ]
  },
  {
   "cell_type": "code",
   "execution_count": 182,
   "outputs": [],
   "source": [
    "import csv\n",
    "import os\n",
    "import requests\n",
    "import pandas as pd\n",
    "import tabula\n",
    "from bs4 import BeautifulSoup"
   ],
   "metadata": {
    "collapsed": false,
    "pycharm": {
     "name": "#%%\n"
    }
   }
  },
  {
   "cell_type": "markdown",
   "source": [
    "Part 1: Data collection/curation + parsing\n",
    "\n",
    "We have decided to use two sets of data for this project, each involving many countries around the world: gun ownership,\n",
    "and a collection of homicide rates. The number of guns possessed by civilians in each country cannot stand alone as an indicator of gun violence, as people\n",
    "kill other people--guns do not.\n",
    "\n",
    "The gun ownership data originated from smallarmssurvey.org, an organization that\n",
    "maintains databases on small arms-related statistics worldwide: violent deaths, firearms holdings, etc. We felt that the\n",
    "data, given the organization's focus on impartial analysis, would be thorough and well-researched.\n",
    "\n",
    "The homicide rate data originated from the United Nations Office on Drugs and Crime. We shouldn't need to expand on their\n",
    "reputation, but the data appears to be extremely thorough.\n",
    "\n",
    "NOTE: should we look for suicide by gun rates, too? What about population?"
   ],
   "metadata": {
    "collapsed": false
   }
  },
  {
   "cell_type": "code",
   "execution_count": 183,
   "outputs": [
    {
     "data": {
      "text/plain": "         Country                                 Indicator   Region  \\\n0          India                      homicide by Firearms     Asia   \n1          India                             Firearms rate     Asia   \n2          India                      homicide by Firearms     Asia   \n3          India                             Firearms rate     Asia   \n4          India                      homicide by Firearms     Asia   \n...          ...                                       ...      ...   \n17603  Australia       Male Homicide by Unknown Mechanisms  Oceania   \n17604  Australia    Male Homicide rate by Other Mechanisms  Oceania   \n17605  Australia  Male Homicide rate by Unknown Mechanisms  Oceania   \n17606  Australia                      Other Mechanism rate  Oceania   \n17607  Australia                    Unknown Mechanism rate  Oceania   \n\n                       Subregion   Unit  Year  Clear  Female Firearm chart  \\\n0                  Southern Asia  Count  1999      0                   NaN   \n1                  Southern Asia   Rate  1999      0                   NaN   \n2                  Southern Asia  Count  2000      0                   NaN   \n3                  Southern Asia   Rate  2000      0                   NaN   \n4                  Southern Asia  Count  2001      0                   NaN   \n...                          ...    ...   ...    ...                   ...   \n17603  Australia and New Zealand  Count  2017      0                   NaN   \n17604  Australia and New Zealand   Rate  2017      0                   NaN   \n17605  Australia and New Zealand   Rate  2017      0                   NaN   \n17606  Australia and New Zealand   Rate  2017      0                   NaN   \n17607  Australia and New Zealand   Rate  2017      0                   NaN   \n\n       Female Firearms  Female Other    ...  Male Other   Male Other chart   \\\n0                  NaN             NaN  ...          NaN                NaN   \n1                  NaN             NaN  ...          NaN                NaN   \n2                  NaN             NaN  ...          NaN                NaN   \n3                  NaN             NaN  ...          NaN                NaN   \n4                  NaN             NaN  ...          NaN                NaN   \n...                ...             ...  ...          ...                ...   \n17603              NaN             NaN  ...          NaN                NaN   \n17604              NaN             NaN  ...          0.5                NaN   \n17605              NaN             NaN  ...          NaN                NaN   \n17606              NaN             NaN  ...          NaN                NaN   \n17607              NaN             NaN  ...          NaN                NaN   \n\n       Male Sharp  Male Sharp chart  Male Unknown  Male Unknown chart   \\\n0             NaN               NaN           NaN                  NaN   \n1             NaN               NaN           NaN                  NaN   \n2             NaN               NaN           NaN                  NaN   \n3             NaN               NaN           NaN                  NaN   \n4             NaN               NaN           NaN                  NaN   \n...           ...               ...           ...                  ...   \n17603         NaN               NaN           NaN                  NaN   \n17604         NaN               NaN           NaN                  NaN   \n17605         NaN               NaN           0.0                  0.0   \n17606         NaN               NaN           NaN                  NaN   \n17607         NaN               NaN           NaN                  NaN   \n\n       Number of Records  Onlyrates   rate  Round rate and count  \n0                      1        NaN  9,294                 9,294  \n1                      1        NaN    0.9                   0.9  \n2                      1        NaN  8,370                 8,370  \n3                      1        NaN    0.8                   0.8  \n4                      1        NaN  8,019                 8,019  \n...                  ...        ...    ...                   ...  \n17603                  1        NaN      4                     4  \n17604                  1        NaN    0.5                   0.5  \n17605                  1        NaN      0                     0  \n17606                  1        NaN    0.3                   0.3  \n17607                  1        0.0      0                     0  \n\n[17608 rows x 27 columns]",
      "text/html": "<div>\n<style scoped>\n    .dataframe tbody tr th:only-of-type {\n        vertical-align: middle;\n    }\n\n    .dataframe tbody tr th {\n        vertical-align: top;\n    }\n\n    .dataframe thead th {\n        text-align: right;\n    }\n</style>\n<table border=\"1\" class=\"dataframe\">\n  <thead>\n    <tr style=\"text-align: right;\">\n      <th></th>\n      <th>Country</th>\n      <th>Indicator</th>\n      <th>Region</th>\n      <th>Subregion</th>\n      <th>Unit</th>\n      <th>Year</th>\n      <th>Clear</th>\n      <th>Female Firearm chart</th>\n      <th>Female Firearms</th>\n      <th>Female Other</th>\n      <th>...</th>\n      <th>Male Other</th>\n      <th>Male Other chart</th>\n      <th>Male Sharp</th>\n      <th>Male Sharp chart</th>\n      <th>Male Unknown</th>\n      <th>Male Unknown chart</th>\n      <th>Number of Records</th>\n      <th>Onlyrates</th>\n      <th>rate</th>\n      <th>Round rate and count</th>\n    </tr>\n  </thead>\n  <tbody>\n    <tr>\n      <th>0</th>\n      <td>India</td>\n      <td>homicide by Firearms</td>\n      <td>Asia</td>\n      <td>Southern Asia</td>\n      <td>Count</td>\n      <td>1999</td>\n      <td>0</td>\n      <td>NaN</td>\n      <td>NaN</td>\n      <td>NaN</td>\n      <td>...</td>\n      <td>NaN</td>\n      <td>NaN</td>\n      <td>NaN</td>\n      <td>NaN</td>\n      <td>NaN</td>\n      <td>NaN</td>\n      <td>1</td>\n      <td>NaN</td>\n      <td>9,294</td>\n      <td>9,294</td>\n    </tr>\n    <tr>\n      <th>1</th>\n      <td>India</td>\n      <td>Firearms rate</td>\n      <td>Asia</td>\n      <td>Southern Asia</td>\n      <td>Rate</td>\n      <td>1999</td>\n      <td>0</td>\n      <td>NaN</td>\n      <td>NaN</td>\n      <td>NaN</td>\n      <td>...</td>\n      <td>NaN</td>\n      <td>NaN</td>\n      <td>NaN</td>\n      <td>NaN</td>\n      <td>NaN</td>\n      <td>NaN</td>\n      <td>1</td>\n      <td>NaN</td>\n      <td>0.9</td>\n      <td>0.9</td>\n    </tr>\n    <tr>\n      <th>2</th>\n      <td>India</td>\n      <td>homicide by Firearms</td>\n      <td>Asia</td>\n      <td>Southern Asia</td>\n      <td>Count</td>\n      <td>2000</td>\n      <td>0</td>\n      <td>NaN</td>\n      <td>NaN</td>\n      <td>NaN</td>\n      <td>...</td>\n      <td>NaN</td>\n      <td>NaN</td>\n      <td>NaN</td>\n      <td>NaN</td>\n      <td>NaN</td>\n      <td>NaN</td>\n      <td>1</td>\n      <td>NaN</td>\n      <td>8,370</td>\n      <td>8,370</td>\n    </tr>\n    <tr>\n      <th>3</th>\n      <td>India</td>\n      <td>Firearms rate</td>\n      <td>Asia</td>\n      <td>Southern Asia</td>\n      <td>Rate</td>\n      <td>2000</td>\n      <td>0</td>\n      <td>NaN</td>\n      <td>NaN</td>\n      <td>NaN</td>\n      <td>...</td>\n      <td>NaN</td>\n      <td>NaN</td>\n      <td>NaN</td>\n      <td>NaN</td>\n      <td>NaN</td>\n      <td>NaN</td>\n      <td>1</td>\n      <td>NaN</td>\n      <td>0.8</td>\n      <td>0.8</td>\n    </tr>\n    <tr>\n      <th>4</th>\n      <td>India</td>\n      <td>homicide by Firearms</td>\n      <td>Asia</td>\n      <td>Southern Asia</td>\n      <td>Count</td>\n      <td>2001</td>\n      <td>0</td>\n      <td>NaN</td>\n      <td>NaN</td>\n      <td>NaN</td>\n      <td>...</td>\n      <td>NaN</td>\n      <td>NaN</td>\n      <td>NaN</td>\n      <td>NaN</td>\n      <td>NaN</td>\n      <td>NaN</td>\n      <td>1</td>\n      <td>NaN</td>\n      <td>8,019</td>\n      <td>8,019</td>\n    </tr>\n    <tr>\n      <th>...</th>\n      <td>...</td>\n      <td>...</td>\n      <td>...</td>\n      <td>...</td>\n      <td>...</td>\n      <td>...</td>\n      <td>...</td>\n      <td>...</td>\n      <td>...</td>\n      <td>...</td>\n      <td>...</td>\n      <td>...</td>\n      <td>...</td>\n      <td>...</td>\n      <td>...</td>\n      <td>...</td>\n      <td>...</td>\n      <td>...</td>\n      <td>...</td>\n      <td>...</td>\n      <td>...</td>\n    </tr>\n    <tr>\n      <th>17603</th>\n      <td>Australia</td>\n      <td>Male Homicide by Unknown Mechanisms</td>\n      <td>Oceania</td>\n      <td>Australia and New Zealand</td>\n      <td>Count</td>\n      <td>2017</td>\n      <td>0</td>\n      <td>NaN</td>\n      <td>NaN</td>\n      <td>NaN</td>\n      <td>...</td>\n      <td>NaN</td>\n      <td>NaN</td>\n      <td>NaN</td>\n      <td>NaN</td>\n      <td>NaN</td>\n      <td>NaN</td>\n      <td>1</td>\n      <td>NaN</td>\n      <td>4</td>\n      <td>4</td>\n    </tr>\n    <tr>\n      <th>17604</th>\n      <td>Australia</td>\n      <td>Male Homicide rate by Other Mechanisms</td>\n      <td>Oceania</td>\n      <td>Australia and New Zealand</td>\n      <td>Rate</td>\n      <td>2017</td>\n      <td>0</td>\n      <td>NaN</td>\n      <td>NaN</td>\n      <td>NaN</td>\n      <td>...</td>\n      <td>0.5</td>\n      <td>NaN</td>\n      <td>NaN</td>\n      <td>NaN</td>\n      <td>NaN</td>\n      <td>NaN</td>\n      <td>1</td>\n      <td>NaN</td>\n      <td>0.5</td>\n      <td>0.5</td>\n    </tr>\n    <tr>\n      <th>17605</th>\n      <td>Australia</td>\n      <td>Male Homicide rate by Unknown Mechanisms</td>\n      <td>Oceania</td>\n      <td>Australia and New Zealand</td>\n      <td>Rate</td>\n      <td>2017</td>\n      <td>0</td>\n      <td>NaN</td>\n      <td>NaN</td>\n      <td>NaN</td>\n      <td>...</td>\n      <td>NaN</td>\n      <td>NaN</td>\n      <td>NaN</td>\n      <td>NaN</td>\n      <td>0.0</td>\n      <td>0.0</td>\n      <td>1</td>\n      <td>NaN</td>\n      <td>0</td>\n      <td>0</td>\n    </tr>\n    <tr>\n      <th>17606</th>\n      <td>Australia</td>\n      <td>Other Mechanism rate</td>\n      <td>Oceania</td>\n      <td>Australia and New Zealand</td>\n      <td>Rate</td>\n      <td>2017</td>\n      <td>0</td>\n      <td>NaN</td>\n      <td>NaN</td>\n      <td>NaN</td>\n      <td>...</td>\n      <td>NaN</td>\n      <td>NaN</td>\n      <td>NaN</td>\n      <td>NaN</td>\n      <td>NaN</td>\n      <td>NaN</td>\n      <td>1</td>\n      <td>NaN</td>\n      <td>0.3</td>\n      <td>0.3</td>\n    </tr>\n    <tr>\n      <th>17607</th>\n      <td>Australia</td>\n      <td>Unknown Mechanism rate</td>\n      <td>Oceania</td>\n      <td>Australia and New Zealand</td>\n      <td>Rate</td>\n      <td>2017</td>\n      <td>0</td>\n      <td>NaN</td>\n      <td>NaN</td>\n      <td>NaN</td>\n      <td>...</td>\n      <td>NaN</td>\n      <td>NaN</td>\n      <td>NaN</td>\n      <td>NaN</td>\n      <td>NaN</td>\n      <td>NaN</td>\n      <td>1</td>\n      <td>0.0</td>\n      <td>0</td>\n      <td>0</td>\n    </tr>\n  </tbody>\n</table>\n<p>17608 rows × 27 columns</p>\n</div>"
     },
     "execution_count": 183,
     "metadata": {},
     "output_type": "execute_result"
    }
   ],
   "source": [
    "# opening the homicide rate file\n",
    "#NOTE: not sure how to scrape this one off the internet, so downloaded data manually and stuck inside the project\n",
    "homicide_rates = pd.read_csv('united_nations_homicide_rate_by_mechanisms.csv')\n",
    "\n",
    "#opening the gun ownership data\n",
    "url = \"http://www.smallarmssurvey.org/fileadmin/docs/Weapons_and_Markets/Tools/Firearms_holdings/SAS-BP-Civilian-held-firearms-annexe.pdf\"\n",
    "got_gun = tabula.read_pdf(url, output_format='dataframe', pages='all')\n",
    "\n",
    "#rename columns\n",
    "got_gun[0].columns=['country_code', 'country', 'region', 'subregion', 'population', 'total_est_guns', 'est_of_guns_per_100_ppl', 'delete1', 'comp_method', 'registered_guns', 'delete2', 'unregistered_guns']\n",
    "\n",
    "#drop some unnecessary columns & rows\n",
    "got_gun[0].drop(range(0,5), inplace=True)\n",
    "#NOTE: should we delete some other columns? is all of these data relevant for our project?\n",
    "got_gun[0].drop(columns=['delete1', 'delete2'], inplace=True)\n",
    "\n",
    "got_gun[0]"
   ],
   "metadata": {
    "collapsed": false,
    "pycharm": {
     "name": "#%%\n"
    }
   }
  },
  {
   "cell_type": "markdown",
   "source": [
    "Part 2: Data management/representation"
   ],
   "metadata": {
    "collapsed": false
   }
  },
  {
   "cell_type": "code",
   "execution_count": 184,
   "outputs": [],
   "source": [
    "#stuff"
   ],
   "metadata": {
    "collapsed": false,
    "pycharm": {
     "name": "#%%\n"
    }
   }
  },
  {
   "cell_type": "markdown",
   "source": [
    "Part 3: Exploratory data analysis"
   ],
   "metadata": {
    "collapsed": false
   }
  },
  {
   "cell_type": "code",
   "execution_count": 185,
   "outputs": [],
   "source": [
    "#stuff"
   ],
   "metadata": {
    "collapsed": false,
    "pycharm": {
     "name": "#%%\n"
    }
   }
  },
  {
   "cell_type": "markdown",
   "source": [
    "Part 4: Hypothesis testing & machine learning"
   ],
   "metadata": {
    "collapsed": false
   }
  },
  {
   "cell_type": "code",
   "execution_count": 186,
   "outputs": [],
   "source": [
    "#wat"
   ],
   "metadata": {
    "collapsed": false,
    "pycharm": {
     "name": "#%%\n"
    }
   }
  },
  {
   "cell_type": "markdown",
   "source": [
    "Part 5: Communication of insights attained"
   ],
   "metadata": {
    "collapsed": false
   }
  },
  {
   "cell_type": "code",
   "execution_count": 187,
   "outputs": [],
   "source": [
    "#um"
   ],
   "metadata": {
    "collapsed": false,
    "pycharm": {
     "name": "#%%\n"
    }
   }
  }
 ],
 "metadata": {
  "kernelspec": {
   "display_name": "Python 3",
   "language": "python",
   "name": "python3"
  },
  "language_info": {
   "codemirror_mode": {
    "name": "ipython",
    "version": 2
   },
   "file_extension": ".py",
   "mimetype": "text/x-python",
   "name": "python",
   "nbconvert_exporter": "python",
   "pygments_lexer": "ipython2",
   "version": "2.7.6"
  }
 },
 "nbformat": 4,
 "nbformat_minor": 0
}