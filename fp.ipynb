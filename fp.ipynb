{
 "cells": [
  {
   "cell_type": "code",
   "execution_count": 1,
   "metadata": {
    "collapsed": true
   },
   "outputs": [],
   "source": [
    "# insert rickroll here ayyye"
   ]
  },
  {
   "cell_type": "code",
   "execution_count": 2,
   "outputs": [
    {
     "ename": "SyntaxError",
     "evalue": "invalid syntax (<ipython-input-2-8e700c91af4f>, line 1)",
     "output_type": "error",
     "traceback": [
      "\u001B[1;36m  File \u001B[1;32m\"<ipython-input-2-8e700c91af4f>\"\u001B[1;36m, line \u001B[1;32m1\u001B[0m\n\u001B[1;33m    Part 1: Data collection/curation + parsing\u001B[0m\n\u001B[1;37m         ^\u001B[0m\n\u001B[1;31mSyntaxError\u001B[0m\u001B[1;31m:\u001B[0m invalid syntax\n"
     ]
    }
   ],
   "source": [
    "import csv\n",
    "import os\n",
    "\n",
    "import matplotlib\n",
    "import requests\n",
    "import pandas as pd\n",
    "import tabula.io\n",
    "import numpy as np\n",
    "import matplotlib.pyplot as plt\n",
    "from sklearn.linear_model import LinearRegression\n",
    "from statistics import mean\n",
    "from matplotlib import cm"
   ],
   "metadata": {
    "collapsed": false,
    "pycharm": {
     "name": "#%%\n"
    }
   }
  },
  {
   "cell_type": "markdown",
   "metadata": {
    "collapsed": false
   },
   "source": [
    "Part 1: Data collection/curation + parsing\n",
    "\n",
    "We have decided to use two sets of data for this project, each involving many countries around the world: gun ownership,\n",
    "and a collection of homicide rates. The number of guns possessed by civilians in each country cannot stand alone as an indicator of gun violence, as people\n",
    "kill other people--guns do not.\n",
    "\n",
    "The gun ownership data originated from smallarmssurvey.org, an organization that\n",
    "maintains databases on small arms-related statistics worldwide: violent deaths, firearms holdings, etc. We felt that the\n",
    "data, given the organization's focus on impartial analysis, would be thorough and well-researched.\n",
    "\n",
    "The homicide rate data originated from the United Nations Office on Drugs and Crime. We shouldn't need to expand on their\n",
    "reputation, but the data appears to be extremely thorough.\n",
    "\n",
    "NOTE: should we look for suicide by gun rates, too? What about population?"
   ]
  },
  {
   "cell_type": "code",
   "execution_count": null,
   "outputs": [],
   "source": [
    "# opening the homicide rate file\n",
    "#NOTE: not sure how to scrape this one off the internet, so downloaded data manually and stuck inside the project\n",
    "homicide_rates = pd.read_csv('united_nations_homicide_rate_by_mechanisms.csv')\n",
    "\n",
    "#opening the gun ownership data\n",
    "url = \"http://www.smallarmssurvey.org/fileadmin/docs/Weapons_and_Markets/Tools/Firearms_holdings/SAS-BP-Civilian-held-firearms-annexe.pdf\"\n",
    "got_gun = tabula.io.read_pdf(url, output_format='dataframe', pages='all')\n",
    "\n",
    "#rename columns\n",
    "got_gun[0].columns=['country_code', 'country', 'region', 'subregion', 'population', 'total_est_guns', 'est_of_guns_per_100_ppl', 'delete1', 'comp_method', 'registered_guns', 'delete2', 'unregistered_guns']\n",
    "\n",
    "#drop some unnecessary columns & rows\n",
    "got_gun[0].drop(range(0,5), inplace=True)\n",
    "got_gun[0].drop(columns=['delete1', 'delete2', 'comp_method', 'registered_guns', 'unregistered_guns'], inplace=True)\n",
    "\n",
    "got_gun[0]"
   ],
   "metadata": {
    "collapsed": false,
    "pycharm": {
     "name": "#%%\n"
    }
   }
  },
  {
   "cell_type": "markdown",
   "source": [
    "Part 2: Data management/representation"
   ],
   "metadata": {
    "collapsed": false
   }
  },
  {
   "cell_type": "code",
   "execution_count": null,
   "metadata": {},
   "outputs": [],
   "source": [
    "#is this actually doing anything? all the data looks the same as got_gun[0]\n",
    "regions = homicide_rates['Region'].unique()\n",
    "rows = []\n",
    "for row in got_gun[0].iterrows():\n",
    "    if row[1]['region'] in regions and row[1]['total_est_guns'] != '-':\n",
    "        rows.append(row[1])\n",
    "gun_owners = pd.DataFrame(rows)\n",
    "gun_owners"
   ]
  },
  {
   "cell_type": "code",
   "execution_count": null,
   "metadata": {},
   "outputs": [],
   "source": [
    "# adding a column for guns per 100k citizens into dataframe\n",
    "per_100k = []\n",
    "for row in gun_owners.iterrows():\n",
    "    val = (float(row[1]['total_est_guns'].replace(\",\", \"\")) / float(row[1]['population'].replace(\",\", \"\"))) * 100000\n",
    "    per_100k.append(round(val, 2))\n",
    "gun_owners['guns_per_100k'] = per_100k\n",
    "gun_owners"
   ]
  },
  {
   "cell_type": "code",
   "execution_count": null,
   "outputs": [],
   "source": [
    "#what is this slice of code doing?\n",
    "guns_per_region = {}\n",
    "for reg in gun_owners['region'].unique():\n",
    "    guns_per_region[reg] = pd.DataFrame(gun_owners.loc[gun_owners['region'] == reg])\n",
    "\n",
    "#if we're using a different homicide table, we can scrub this code right?\n",
    "years = {}\n",
    "for y in homicide_rates['Year'].unique():\n",
    "    rates = []\n",
    "    data = homicide_rates.loc[homicide_rates['Year'] == y]\n",
    "    for row in data.iterrows():\n",
    "        val = str(row[1]['rate']).replace(\",\", \"\")\n",
    "        val = float(val)\n",
    "        rates.append(val)\n",
    "    years[y] = mean(rates)"
   ],
   "metadata": {
    "collapsed": false,
    "pycharm": {
     "name": "#%%\n"
    }
   }
  },
  {
   "cell_type": "code",
   "execution_count": null,
   "metadata": {},
   "outputs": [],
   "source": [
    "x_year = list(years.keys())\n",
    "y_val = list(years.values())\n",
    "\n",
    "fig=plt.figure()\n",
    "ax = fig.add_axes([0,0,1,1])\n",
    "ax.scatter(x_year, y_val, color=\"b\")\n",
    "ax.plot(x_year, y_val)\n",
    "\n",
    "ax.set_xlabel(\"Year\")\n",
    "ax.set_ylabel(\"Avg. Homicide Rate\")\n",
    "ax.set_title(\"Average Worldwide Homicide Rate Over Time\")\n",
    "plt.show()\n",
    "\n",
    "#todo - do a graph showing the average over all years for a country, just to see what it looks like"
   ]
  },
  {
   "cell_type": "code",
   "execution_count": null,
   "metadata": {},
   "outputs": [],
   "source": [
    "pop = {}\n",
    "guns = {}\n",
    "for key in guns_per_region.keys():\n",
    "    table = guns_per_region[key]\n",
    "    total_pop = {}\n",
    "    total_gun = {}\n",
    "    for row in table.iterrows():\n",
    "        total_pop[row[1]['country_code']] = int(row[1]['population'].replace(\",\", \"\"))\n",
    "        total_gun[row[1]['country_code']] = float(row[1]['total_est_guns'].replace(\",\", \"\"))\n",
    "    pop[key] = total_pop\n",
    "    guns[key] = total_gun"
   ]
  },
  {
   "cell_type": "code",
   "execution_count": null,
   "outputs": [],
   "source": [
    "titles = list(guns_per_region.keys())\n",
    "thresholds = {'Asia': 40000000, 'Europe': 10000000, 'Africa': 3000000, 'Oceania': 1000000, 'Americas': 4500000}\n",
    "check_guns = {}\n",
    "for i in titles:\n",
    "    x = (np.array(list(pop[i].values())))\n",
    "    y = (np.array(list(guns[i].values())))\n",
    "    #m, b = np.polyfit(x,y,1)\n",
    "\n",
    "    plt.figure(figsize=(15, 8))\n",
    "    plt.scatter(x, y, color=\"Blue\")\n",
    "    #plt.plot(x, (m*x) + b, color=\"Red\")\n",
    "\n",
    "    # I moved this up here\n",
    "    regr = LinearRegression()\n",
    "\n",
    "    regr.fit(x.reshape(-1, 1), y.reshape(-1, 1))\n",
    "    plt.plot(x.reshape(-1, 1), regr.predict(x.reshape(-1, 1)), color=\"Red\")\n",
    "\n",
    "    plt.xlabel(\"Population\")\n",
    "    plt.ylabel(\"Estimated Total Guns\")\n",
    "    plt.title(i)\n",
    "\n",
    "    #highlight the top few countries of interest\n",
    "    #NOTE: is not working yet\n",
    "    \"\"\"if i == 'Asia':\n",
    "        print(guns[i])\n",
    "        print(pop[i])\n",
    "        #if guns > 200000 && population > 200000 b/c that's 1 gun to every person???\n",
    "        #if guns[i] > pop[i]:\n",
    "        plt.scatter(x,y, color = 'Purple')\n",
    "        #print(\"country:\", i, \"population:\", pop[i], \"guns:\", guns[i])\n",
    "        # maybe stick those top few countries into a dataframe for later use??\"\"\"\n",
    "\n",
    "    # NOTE: This puts the text only in certain ones -- the thresholds are defined above. Not sure if it's a problem that they're hardcoded but ¯\\_(ツ)_/¯ \n",
    "    for j in pop[i].keys():\n",
    "        if guns[i][j] >= thresholds[i]:\n",
    "            if not check_guns.get(i, False):\n",
    "                check_guns[i] = []\n",
    "            check_guns[i].append(j)\n",
    "            plt.text(x=pop[i][j], y=guns[i][j], s=j)\n",
    "    plt.show()"
   ],
   "metadata": {
    "collapsed": false,
    "pycharm": {
     "name": "#%%\n"
    }
   }
  },
  {
   "cell_type": "code",
   "execution_count": null,
   "metadata": {},
   "outputs": [],
   "source": [
    "guns = {}\n",
    "guns_per = {}\n",
    "for key in guns_per_region.keys():\n",
    "    table = guns_per_region[key]\n",
    "    total_pop = {}\n",
    "    total_gun = {}\n",
    "    for row in table.iterrows():\n",
    "        total_pop[row[1]['country_code']] = int(row[1]['population'].replace(\",\", \"\"))\n",
    "        total_gun[row[1]['country_code']] = row[1]['guns_per_100k']\n",
    "    guns[key] = total_pop\n",
    "    guns_per[key] = total_gun"
   ]
  },
  {
   "cell_type": "code",
   "execution_count": null,
   "metadata": {},
   "outputs": [],
   "source": [
    "titles = list(guns_per_region.keys())\n",
    "thresholds = {'Asia': 30000, 'Europe': 32000, 'Africa': 13000, 'Oceania': 14000, 'Americas': 10000}\n",
    "check_guns_per = {}\n",
    "for i in titles:\n",
    "    x = (np.array(list(guns[i].values())))\n",
    "    y = (np.array(list(guns_per[i].values())))\n",
    "\n",
    "    plt.figure(figsize=(15, 8))\n",
    "    plt.scatter(x, y, color=\"Blue\")\n",
    "    \n",
    "    regr = LinearRegression()\n",
    "\n",
    "    regr.fit(x.reshape(-1, 1), y.reshape(-1, 1))\n",
    "    plt.plot(x.reshape(-1, 1), regr.predict(x.reshape(-1, 1)), color=\"Red\")\n",
    "\n",
    "    plt.xlabel(\"Population\")\n",
    "    plt.ylabel(\"Estimated Total Guns (Per 100k People)\")\n",
    "    plt.title(i)\n",
    "\n",
    "    for j in guns[i].keys():\n",
    "        if guns_per[i][j] >= thresholds[i]:\n",
    "            if not check_guns_per.get(i, False):\n",
    "                check_guns_per[i] = []\n",
    "            check_guns_per[i].append(j)\n",
    "            plt.text(x=guns[i][j], y=guns_per[i][j], s=j)\n",
    "    plt.show()"
   ]
  },
  {
   "cell_type": "code",
   "execution_count": null,
   "metadata": {},
   "outputs": [],
   "source": [
    "# TODO -- Found this link: https://www.indexmundi.com/facts/indicators/VC.IHR.PSRC.P5/rankings/middle-east -- has different links to more tables per region but would need to do a couple of different scrapes per region due to how the site is divied up, or could just do the one tab for the whole world (Look at bottom of table and the links to the other tables are just below it). Next on my to do list"
   ]
  },
  {
   "cell_type": "code",
   "execution_count": null,
   "metadata": {},
   "outputs": [],
   "source": [
    "gun_owners.loc[gun_owners['country_code'] == 'REU']"
   ]
  },
  {
   "cell_type": "code",
   "execution_count": null,
   "metadata": {},
   "outputs": [],
   "source": [
    "# This is just the table of every country in the world, not organized by region\n",
    "\n",
    "r = requests.get('https://www.indexmundi.com/facts/indicators/VC.IHR.PSRC.P5/rankings')\n",
    "homs = pd.read_html(r.text)[0].drop(['Rank'], axis=1)\n",
    "homs.loc[homs['Year'] == 2017]"
   ]
  },
  {
   "cell_type": "code",
   "execution_count": null,
   "metadata": {},
   "outputs": [],
   "source": [
    "# Thinking of using this data to make a graph that shows, for each of the highest gun-per-people countries, how much correlation that guns-per-people as on intentional homicides per people"
   ]
  },
  {
   "cell_type": "code",
   "execution_count": null,
   "metadata": {},
   "outputs": [],
   "source": [
    "guns_per = {}\n",
    "hom_rates = {}\n",
    "for key in check_guns_per.keys():\n",
    "    to_use = check_guns_per[key]\n",
    "    for country in to_use:\n",
    "        ser = gun_owners.loc[gun_owners['country_code'] == country]\n",
    "        name = ser['country'][ser.index[0]]\n",
    "        if len(homs.loc[homs['Country'] == name].index) > 0:\n",
    "            guns_per[country] = ser['guns_per_100k'][ser.index[0]]\n",
    "            ser2 = homs.loc[homs['Country'] == name]\n",
    "            hom_rates[country] = ser2['Value'][ser2.index[0]]\n",
    "    '''\n",
    "\n",
    "\n",
    "    table = table.loc[table['country_code'] in check_guns_per[key]]\n",
    "    total_gun = {}\n",
    "    total_hom = {}\n",
    "    for row in table.iterrows():\n",
    "        country = row[1]['country']\n",
    "        ser = homs.loc[homs['Country'] == country]\n",
    "        if len(ser.index) > 0:\n",
    "            total_gun[row[1]['country_code']] = float(row[1]['guns_per_100k'].replace(\",\", \"\"))\n",
    "            total_hom[row[1]['country_code']] = float(ser['Value'][ser.index])\n",
    "    guns_per[key] = total_gun\n",
    "    hom_rates[key] = total_hom\n",
    "hom_rates'''"
   ]
  },
  {
   "cell_type": "code",
   "execution_count": null,
   "metadata": {},
   "outputs": [],
   "source": [
    "g = (np.array(list(guns_per.values())))\n",
    "h = (np.array(list(hom_rates.values())))\n",
    "\n",
    "plt.figure(figsize=(15, 8))\n",
    "plt.scatter(g, h, color=\"Blue\")\n",
    "    \n",
    "regr = LinearRegression()\n",
    "\n",
    "regr.fit(g.reshape(-1, 1), h.reshape(-1, 1))\n",
    "plt.plot(g.reshape(-1, 1), regr.predict(g.reshape(-1, 1)), color=\"Red\")\n",
    "\n",
    "plt.xlabel(\"Estimated Total Guns Per 100k People\")\n",
    "plt.ylabel(\"Estimated Total Homicides Per 100k People\")\n",
    "plt.title(\"Homicide Rates Per Guns Per 100k People\")\n",
    "\n",
    "for j in guns_per.keys():\n",
    "    plt.text(x=guns_per[j], y=hom_rates[j], s=j)\n",
    "plt.show()"
   ]
  },
  {
   "cell_type": "code",
   "execution_count": null,
   "metadata": {},
   "outputs": [],
   "source": [
    "# TODO -- Left off here (mrp)"
   ]
  },
  {
   "cell_type": "markdown",
   "source": [
    "Part 3: Exploratory data analysis"
   ],
   "metadata": {
    "collapsed": false
   }
  },
  {
   "cell_type": "code",
   "execution_count": null,
   "outputs": [],
   "source": [
    "#stuff"
   ],
   "metadata": {
    "collapsed": false,
    "pycharm": {
     "name": "#%%\n"
    }
   }
  },
  {
   "cell_type": "markdown",
   "source": [
    "Part 4: Hypothesis testing & machine learning"
   ],
   "metadata": {
    "collapsed": false
   }
  },
  {
   "cell_type": "code",
   "execution_count": null,
   "outputs": [],
   "source": [
    "#wat"
   ],
   "metadata": {
    "collapsed": false,
    "pycharm": {
     "name": "#%%\n"
    }
   }
  },
  {
   "cell_type": "markdown",
   "source": [
    "Part 5: Communication of insights attained"
   ],
   "metadata": {
    "collapsed": false
   }
  },
  {
   "cell_type": "code",
   "execution_count": 59,
   "outputs": [],
   "source": [
    "#um"
   ],
   "metadata": {
    "collapsed": false,
    "pycharm": {
     "name": "#%%\n"
    }
   }
  }
 ],
 "metadata": {
  "kernelspec": {
   "display_name": "Python 3",
   "language": "python",
   "name": "python3"
  },
  "language_info": {
   "codemirror_mode": {
    "name": "ipython",
    "version": 2
   },
   "file_extension": ".py",
   "mimetype": "text/x-python",
   "name": "python",
   "nbconvert_exporter": "python",
   "pygments_lexer": "ipython2",
   "version": "3.8.5-final"
  }
 },
 "nbformat": 4,
 "nbformat_minor": 0
}