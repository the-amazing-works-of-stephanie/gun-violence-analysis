{
 "cells": [
  {
   "cell_type": "code",
   "execution_count": 215,
   "metadata": {
    "collapsed": true
   },
   "outputs": [],
   "source": [
    "# insert rickroll here ayyye"
   ]
  },
  {
   "cell_type": "code",
   "execution_count": 216,
   "outputs": [],
   "source": [
    "import csv\n",
    "import os\n",
    "\n",
    "import matplotlib\n",
    "import requests\n",
    "import pandas as pd\n",
    "import tabula.io\n",
    "import numpy as np\n",
    "import matplotlib.pyplot as plt\n",
    "from sklearn.linear_model import LinearRegression\n",
    "from statistics import mean\n",
    "from matplotlib import cm"
   ],
   "metadata": {
    "collapsed": false,
    "pycharm": {
     "name": "#%%\n"
    }
   }
  },
  {
   "cell_type": "markdown",
   "metadata": {
    "collapsed": false
   },
   "source": [
    "Part 1: Data collection/curation + parsing\n",
    "\n",
    "We have decided to use two sets of data for this project, each involving many countries around the world: gun ownership,\n",
    "and a collection of homicide rates. The number of guns possessed by civilians in each country cannot stand alone as an indicator of gun violence, as people\n",
    "kill other people--guns do not.\n",
    "\n",
    "The gun ownership data originated from smallarmssurvey.org, an organization that\n",
    "maintains databases on small arms-related statistics worldwide: violent deaths, firearms holdings, etc. We felt that the\n",
    "data, given the organization's focus on impartial analysis, would be thorough and well-researched.\n",
    "\n",
    "The homicide rate data originated from the United Nations Office on Drugs and Crime. We shouldn't need to expand on their\n",
    "reputation, but the data appears to be extremely thorough.\n",
    "\n",
    "NOTE: should we look for suicide by gun rates, too? What about population?"
   ]
  },
  {
   "cell_type": "code",
   "execution_count": 217,
   "outputs": [
    {
     "data": {
      "text/plain": "    country_code                country    region        subregion  \\\n5            AFG            Afghanistan      Asia    Southern Asia   \n6            ALB                Albania    Europe  Southern Europe   \n7            DZA                Algeria    Africa  Northern Africa   \n8            ASM         American Samoa   Oceania        Polynesia   \n9            AND                Andorra    Europe  Southern Europe   \n..           ...                    ...       ...              ...   \n266          VGB  Virgin Islands (U.K.)  Americas        Caribbean   \n267          VIR  Virgin Islands (U.S.)  Americas        Caribbean   \n268          YEM                  Yemen      Asia     Western Asia   \n269          ZMB                 Zambia    Africa   Eastern Africa   \n270          ZWE               Zimbabwe    Africa   Eastern Africa   \n\n     population total_est_guns est_of_guns_per_100_ppl  \n5    34,169,000      4,270,000                    12.5  \n6     2,911,000        350,000                    12.0  \n7    41,064,000        877,000                     2.1  \n8        56,000            400                     0.7  \n9        69,000         10,000                    14.1  \n..          ...            ...                     ...  \n266      31,000            300                     0.8  \n267     107,000         18,000                    16.6  \n268  28,120,000     14,859,000                    52.8  \n269  17,238,000        158,000                     0.9  \n270  16,338,000        455,000                     2.8  \n\n[266 rows x 7 columns]",
      "text/html": "<div>\n<style scoped>\n    .dataframe tbody tr th:only-of-type {\n        vertical-align: middle;\n    }\n\n    .dataframe tbody tr th {\n        vertical-align: top;\n    }\n\n    .dataframe thead th {\n        text-align: right;\n    }\n</style>\n<table border=\"1\" class=\"dataframe\">\n  <thead>\n    <tr style=\"text-align: right;\">\n      <th></th>\n      <th>country_code</th>\n      <th>country</th>\n      <th>region</th>\n      <th>subregion</th>\n      <th>population</th>\n      <th>total_est_guns</th>\n      <th>est_of_guns_per_100_ppl</th>\n    </tr>\n  </thead>\n  <tbody>\n    <tr>\n      <th>5</th>\n      <td>AFG</td>\n      <td>Afghanistan</td>\n      <td>Asia</td>\n      <td>Southern Asia</td>\n      <td>34,169,000</td>\n      <td>4,270,000</td>\n      <td>12.5</td>\n    </tr>\n    <tr>\n      <th>6</th>\n      <td>ALB</td>\n      <td>Albania</td>\n      <td>Europe</td>\n      <td>Southern Europe</td>\n      <td>2,911,000</td>\n      <td>350,000</td>\n      <td>12.0</td>\n    </tr>\n    <tr>\n      <th>7</th>\n      <td>DZA</td>\n      <td>Algeria</td>\n      <td>Africa</td>\n      <td>Northern Africa</td>\n      <td>41,064,000</td>\n      <td>877,000</td>\n      <td>2.1</td>\n    </tr>\n    <tr>\n      <th>8</th>\n      <td>ASM</td>\n      <td>American Samoa</td>\n      <td>Oceania</td>\n      <td>Polynesia</td>\n      <td>56,000</td>\n      <td>400</td>\n      <td>0.7</td>\n    </tr>\n    <tr>\n      <th>9</th>\n      <td>AND</td>\n      <td>Andorra</td>\n      <td>Europe</td>\n      <td>Southern Europe</td>\n      <td>69,000</td>\n      <td>10,000</td>\n      <td>14.1</td>\n    </tr>\n    <tr>\n      <th>...</th>\n      <td>...</td>\n      <td>...</td>\n      <td>...</td>\n      <td>...</td>\n      <td>...</td>\n      <td>...</td>\n      <td>...</td>\n    </tr>\n    <tr>\n      <th>266</th>\n      <td>VGB</td>\n      <td>Virgin Islands (U.K.)</td>\n      <td>Americas</td>\n      <td>Caribbean</td>\n      <td>31,000</td>\n      <td>300</td>\n      <td>0.8</td>\n    </tr>\n    <tr>\n      <th>267</th>\n      <td>VIR</td>\n      <td>Virgin Islands (U.S.)</td>\n      <td>Americas</td>\n      <td>Caribbean</td>\n      <td>107,000</td>\n      <td>18,000</td>\n      <td>16.6</td>\n    </tr>\n    <tr>\n      <th>268</th>\n      <td>YEM</td>\n      <td>Yemen</td>\n      <td>Asia</td>\n      <td>Western Asia</td>\n      <td>28,120,000</td>\n      <td>14,859,000</td>\n      <td>52.8</td>\n    </tr>\n    <tr>\n      <th>269</th>\n      <td>ZMB</td>\n      <td>Zambia</td>\n      <td>Africa</td>\n      <td>Eastern Africa</td>\n      <td>17,238,000</td>\n      <td>158,000</td>\n      <td>0.9</td>\n    </tr>\n    <tr>\n      <th>270</th>\n      <td>ZWE</td>\n      <td>Zimbabwe</td>\n      <td>Africa</td>\n      <td>Eastern Africa</td>\n      <td>16,338,000</td>\n      <td>455,000</td>\n      <td>2.8</td>\n    </tr>\n  </tbody>\n</table>\n<p>266 rows × 7 columns</p>\n</div>"
     },
     "execution_count": 217,
     "metadata": {},
     "output_type": "execute_result"
    }
   ],
   "source": [
    "# opening the homicide rate file\n",
    "#NOTE: not sure how to scrape this one off the internet, so downloaded data manually and stuck inside the project\n",
    "homicide_rates = pd.read_csv('united_nations_homicide_rate_by_mechanisms.csv')\n",
    "\n",
    "#opening the gun ownership data\n",
    "url = \"http://www.smallarmssurvey.org/fileadmin/docs/Weapons_and_Markets/Tools/Firearms_holdings/SAS-BP-Civilian-held-firearms-annexe.pdf\"\n",
    "got_gun = tabula.io.read_pdf(url, output_format='dataframe', pages='all')\n",
    "\n",
    "#rename columns\n",
    "got_gun[0].columns=['country_code', 'country', 'region', 'subregion', 'population', 'total_est_guns', 'est_of_guns_per_100_ppl', 'delete1', 'comp_method', 'registered_guns', 'delete2', 'unregistered_guns']\n",
    "\n",
    "#drop some unnecessary columns & rows\n",
    "got_gun[0].drop(range(0,5), inplace=True)\n",
    "got_gun[0].drop(columns=['delete1', 'delete2', 'comp_method', 'registered_guns', 'unregistered_guns'], inplace=True)\n",
    "\n",
    "got_gun[0]"
   ],
   "metadata": {
    "collapsed": false,
    "pycharm": {
     "name": "#%%\n"
    }
   }
  },
  {
   "cell_type": "markdown",
   "source": [
    "Part 2: Data management/representation"
   ],
   "metadata": {
    "collapsed": false
   }
  },
  {
   "cell_type": "code",
   "execution_count": 218,
   "metadata": {},
   "outputs": [
    {
     "data": {
      "text/plain": "    country_code                country    region        subregion  \\\n5            AFG            Afghanistan      Asia    Southern Asia   \n6            ALB                Albania    Europe  Southern Europe   \n7            DZA                Algeria    Africa  Northern Africa   \n8            ASM         American Samoa   Oceania        Polynesia   \n9            AND                Andorra    Europe  Southern Europe   \n..           ...                    ...       ...              ...   \n266          VGB  Virgin Islands (U.K.)  Americas        Caribbean   \n267          VIR  Virgin Islands (U.S.)  Americas        Caribbean   \n268          YEM                  Yemen      Asia     Western Asia   \n269          ZMB                 Zambia    Africa   Eastern Africa   \n270          ZWE               Zimbabwe    Africa   Eastern Africa   \n\n     population total_est_guns est_of_guns_per_100_ppl  \n5    34,169,000      4,270,000                    12.5  \n6     2,911,000        350,000                    12.0  \n7    41,064,000        877,000                     2.1  \n8        56,000            400                     0.7  \n9        69,000         10,000                    14.1  \n..          ...            ...                     ...  \n266      31,000            300                     0.8  \n267     107,000         18,000                    16.6  \n268  28,120,000     14,859,000                    52.8  \n269  17,238,000        158,000                     0.9  \n270  16,338,000        455,000                     2.8  \n\n[227 rows x 7 columns]",
      "text/html": "<div>\n<style scoped>\n    .dataframe tbody tr th:only-of-type {\n        vertical-align: middle;\n    }\n\n    .dataframe tbody tr th {\n        vertical-align: top;\n    }\n\n    .dataframe thead th {\n        text-align: right;\n    }\n</style>\n<table border=\"1\" class=\"dataframe\">\n  <thead>\n    <tr style=\"text-align: right;\">\n      <th></th>\n      <th>country_code</th>\n      <th>country</th>\n      <th>region</th>\n      <th>subregion</th>\n      <th>population</th>\n      <th>total_est_guns</th>\n      <th>est_of_guns_per_100_ppl</th>\n    </tr>\n  </thead>\n  <tbody>\n    <tr>\n      <th>5</th>\n      <td>AFG</td>\n      <td>Afghanistan</td>\n      <td>Asia</td>\n      <td>Southern Asia</td>\n      <td>34,169,000</td>\n      <td>4,270,000</td>\n      <td>12.5</td>\n    </tr>\n    <tr>\n      <th>6</th>\n      <td>ALB</td>\n      <td>Albania</td>\n      <td>Europe</td>\n      <td>Southern Europe</td>\n      <td>2,911,000</td>\n      <td>350,000</td>\n      <td>12.0</td>\n    </tr>\n    <tr>\n      <th>7</th>\n      <td>DZA</td>\n      <td>Algeria</td>\n      <td>Africa</td>\n      <td>Northern Africa</td>\n      <td>41,064,000</td>\n      <td>877,000</td>\n      <td>2.1</td>\n    </tr>\n    <tr>\n      <th>8</th>\n      <td>ASM</td>\n      <td>American Samoa</td>\n      <td>Oceania</td>\n      <td>Polynesia</td>\n      <td>56,000</td>\n      <td>400</td>\n      <td>0.7</td>\n    </tr>\n    <tr>\n      <th>9</th>\n      <td>AND</td>\n      <td>Andorra</td>\n      <td>Europe</td>\n      <td>Southern Europe</td>\n      <td>69,000</td>\n      <td>10,000</td>\n      <td>14.1</td>\n    </tr>\n    <tr>\n      <th>...</th>\n      <td>...</td>\n      <td>...</td>\n      <td>...</td>\n      <td>...</td>\n      <td>...</td>\n      <td>...</td>\n      <td>...</td>\n    </tr>\n    <tr>\n      <th>266</th>\n      <td>VGB</td>\n      <td>Virgin Islands (U.K.)</td>\n      <td>Americas</td>\n      <td>Caribbean</td>\n      <td>31,000</td>\n      <td>300</td>\n      <td>0.8</td>\n    </tr>\n    <tr>\n      <th>267</th>\n      <td>VIR</td>\n      <td>Virgin Islands (U.S.)</td>\n      <td>Americas</td>\n      <td>Caribbean</td>\n      <td>107,000</td>\n      <td>18,000</td>\n      <td>16.6</td>\n    </tr>\n    <tr>\n      <th>268</th>\n      <td>YEM</td>\n      <td>Yemen</td>\n      <td>Asia</td>\n      <td>Western Asia</td>\n      <td>28,120,000</td>\n      <td>14,859,000</td>\n      <td>52.8</td>\n    </tr>\n    <tr>\n      <th>269</th>\n      <td>ZMB</td>\n      <td>Zambia</td>\n      <td>Africa</td>\n      <td>Eastern Africa</td>\n      <td>17,238,000</td>\n      <td>158,000</td>\n      <td>0.9</td>\n    </tr>\n    <tr>\n      <th>270</th>\n      <td>ZWE</td>\n      <td>Zimbabwe</td>\n      <td>Africa</td>\n      <td>Eastern Africa</td>\n      <td>16,338,000</td>\n      <td>455,000</td>\n      <td>2.8</td>\n    </tr>\n  </tbody>\n</table>\n<p>227 rows × 7 columns</p>\n</div>"
     },
     "execution_count": 218,
     "metadata": {},
     "output_type": "execute_result"
    }
   ],
   "source": [
    "#is this actually doing anything? all the data looks the same as got_gun[0]\n",
    "regions = homicide_rates['Region'].unique()\n",
    "rows = []\n",
    "for row in got_gun[0].iterrows():\n",
    "    if row[1]['region'] in regions and row[1]['total_est_guns'] != '-':\n",
    "        rows.append(row[1])\n",
    "gun_owners = pd.DataFrame(rows)\n",
    "gun_owners"
   ]
  },
  {
   "cell_type": "code",
   "execution_count": 219,
   "metadata": {},
   "outputs": [
    {
     "data": {
      "text/plain": "    country_code                country    region        subregion  \\\n5            AFG            Afghanistan      Asia    Southern Asia   \n6            ALB                Albania    Europe  Southern Europe   \n7            DZA                Algeria    Africa  Northern Africa   \n8            ASM         American Samoa   Oceania        Polynesia   \n9            AND                Andorra    Europe  Southern Europe   \n..           ...                    ...       ...              ...   \n266          VGB  Virgin Islands (U.K.)  Americas        Caribbean   \n267          VIR  Virgin Islands (U.S.)  Americas        Caribbean   \n268          YEM                  Yemen      Asia     Western Asia   \n269          ZMB                 Zambia    Africa   Eastern Africa   \n270          ZWE               Zimbabwe    Africa   Eastern Africa   \n\n     population total_est_guns est_of_guns_per_100_ppl  guns_per_100k  \n5    34,169,000      4,270,000                    12.5       12496.71  \n6     2,911,000        350,000                    12.0       12023.36  \n7    41,064,000        877,000                     2.1        2135.69  \n8        56,000            400                     0.7         714.29  \n9        69,000         10,000                    14.1       14492.75  \n..          ...            ...                     ...            ...  \n266      31,000            300                     0.8         967.74  \n267     107,000         18,000                    16.6       16822.43  \n268  28,120,000     14,859,000                    52.8       52841.39  \n269  17,238,000        158,000                     0.9         916.58  \n270  16,338,000        455,000                     2.8        2784.92  \n\n[227 rows x 8 columns]",
      "text/html": "<div>\n<style scoped>\n    .dataframe tbody tr th:only-of-type {\n        vertical-align: middle;\n    }\n\n    .dataframe tbody tr th {\n        vertical-align: top;\n    }\n\n    .dataframe thead th {\n        text-align: right;\n    }\n</style>\n<table border=\"1\" class=\"dataframe\">\n  <thead>\n    <tr style=\"text-align: right;\">\n      <th></th>\n      <th>country_code</th>\n      <th>country</th>\n      <th>region</th>\n      <th>subregion</th>\n      <th>population</th>\n      <th>total_est_guns</th>\n      <th>est_of_guns_per_100_ppl</th>\n      <th>guns_per_100k</th>\n    </tr>\n  </thead>\n  <tbody>\n    <tr>\n      <th>5</th>\n      <td>AFG</td>\n      <td>Afghanistan</td>\n      <td>Asia</td>\n      <td>Southern Asia</td>\n      <td>34,169,000</td>\n      <td>4,270,000</td>\n      <td>12.5</td>\n      <td>12496.71</td>\n    </tr>\n    <tr>\n      <th>6</th>\n      <td>ALB</td>\n      <td>Albania</td>\n      <td>Europe</td>\n      <td>Southern Europe</td>\n      <td>2,911,000</td>\n      <td>350,000</td>\n      <td>12.0</td>\n      <td>12023.36</td>\n    </tr>\n    <tr>\n      <th>7</th>\n      <td>DZA</td>\n      <td>Algeria</td>\n      <td>Africa</td>\n      <td>Northern Africa</td>\n      <td>41,064,000</td>\n      <td>877,000</td>\n      <td>2.1</td>\n      <td>2135.69</td>\n    </tr>\n    <tr>\n      <th>8</th>\n      <td>ASM</td>\n      <td>American Samoa</td>\n      <td>Oceania</td>\n      <td>Polynesia</td>\n      <td>56,000</td>\n      <td>400</td>\n      <td>0.7</td>\n      <td>714.29</td>\n    </tr>\n    <tr>\n      <th>9</th>\n      <td>AND</td>\n      <td>Andorra</td>\n      <td>Europe</td>\n      <td>Southern Europe</td>\n      <td>69,000</td>\n      <td>10,000</td>\n      <td>14.1</td>\n      <td>14492.75</td>\n    </tr>\n    <tr>\n      <th>...</th>\n      <td>...</td>\n      <td>...</td>\n      <td>...</td>\n      <td>...</td>\n      <td>...</td>\n      <td>...</td>\n      <td>...</td>\n      <td>...</td>\n    </tr>\n    <tr>\n      <th>266</th>\n      <td>VGB</td>\n      <td>Virgin Islands (U.K.)</td>\n      <td>Americas</td>\n      <td>Caribbean</td>\n      <td>31,000</td>\n      <td>300</td>\n      <td>0.8</td>\n      <td>967.74</td>\n    </tr>\n    <tr>\n      <th>267</th>\n      <td>VIR</td>\n      <td>Virgin Islands (U.S.)</td>\n      <td>Americas</td>\n      <td>Caribbean</td>\n      <td>107,000</td>\n      <td>18,000</td>\n      <td>16.6</td>\n      <td>16822.43</td>\n    </tr>\n    <tr>\n      <th>268</th>\n      <td>YEM</td>\n      <td>Yemen</td>\n      <td>Asia</td>\n      <td>Western Asia</td>\n      <td>28,120,000</td>\n      <td>14,859,000</td>\n      <td>52.8</td>\n      <td>52841.39</td>\n    </tr>\n    <tr>\n      <th>269</th>\n      <td>ZMB</td>\n      <td>Zambia</td>\n      <td>Africa</td>\n      <td>Eastern Africa</td>\n      <td>17,238,000</td>\n      <td>158,000</td>\n      <td>0.9</td>\n      <td>916.58</td>\n    </tr>\n    <tr>\n      <th>270</th>\n      <td>ZWE</td>\n      <td>Zimbabwe</td>\n      <td>Africa</td>\n      <td>Eastern Africa</td>\n      <td>16,338,000</td>\n      <td>455,000</td>\n      <td>2.8</td>\n      <td>2784.92</td>\n    </tr>\n  </tbody>\n</table>\n<p>227 rows × 8 columns</p>\n</div>"
     },
     "execution_count": 219,
     "metadata": {},
     "output_type": "execute_result"
    }
   ],
   "source": [
    "# adding a column for guns per 100k citizens into dataframe\n",
    "per_100k = []\n",
    "for row in gun_owners.iterrows():\n",
    "    val = (float(row[1]['total_est_guns'].replace(\",\", \"\")) / float(row[1]['population'].replace(\",\", \"\"))) * 100000\n",
    "    per_100k.append(round(val, 2))\n",
    "gun_owners['guns_per_100k'] = per_100k\n",
    "gun_owners"
   ]
  },
  {
   "cell_type": "code",
   "execution_count": 220,
   "outputs": [],
   "source": [
    "#what is this slice of code doing?\n",
    "guns_per_region = {}\n",
    "for reg in gun_owners['region'].unique():\n",
    "    guns_per_region[reg] = pd.DataFrame(gun_owners.loc[gun_owners['region'] == reg])\n",
    "\n",
    "#if we're using a different homicide table, we can scrub this code right?\n",
    "years = {}\n",
    "for y in homicide_rates['Year'].unique():\n",
    "    rates = []\n",
    "    data = homicide_rates.loc[homicide_rates['Year'] == y]\n",
    "    for row in data.iterrows():\n",
    "        val = str(row[1]['rate']).replace(\",\", \"\")\n",
    "        val = float(val)\n",
    "        rates.append(val)\n",
    "    years[y] = mean(rates)"
   ],
   "metadata": {
    "collapsed": false,
    "pycharm": {
     "name": "#%%\n"
    }
   }
  },
  {
   "cell_type": "code",
   "execution_count": 221,
   "metadata": {},
   "outputs": [
    {
     "data": {
      "text/plain": "<Figure size 432x288 with 1 Axes>",
      "image/png": "[encoded data removed]"
     },
     "metadata": {
      "needs_background": "light"
     },
     "output_type": "display_data"
    }
   ],
   "source": [
    "x_year = list(years.keys())\n",
    "y_val = list(years.values())\n",
    "\n",
    "fig=plt.figure()\n",
    "ax = fig.add_axes([0,0,1,1])\n",
    "ax.scatter(x_year, y_val, color=\"b\")\n",
    "ax.plot(x_year, y_val)\n",
    "\n",
    "ax.set_xlabel(\"Year\")\n",
    "ax.set_ylabel(\"Avg. Homicide Rate\")\n",
    "ax.set_title(\"Average Worldwide Homicide Rate Over Time\")\n",
    "plt.show()\n",
    "\n",
    "#todo - do a graph showing the average over all years for a country, just to see what it looks like"
   ]
  },
  {
   "cell_type": "code",
   "execution_count": 222,
   "metadata": {},
   "outputs": [],
   "source": [
    "# this is a dictionary whose keys are the regions & the values the keys map to are dataframes of the gun ownership\n",
    "# data for each country in that region. the data originated from the gun_owner table, but is filtered by region.\n",
    "pop = {}\n",
    "guns = {}\n",
    "for key in guns_per_region.keys():\n",
    "    table = guns_per_region[key]\n",
    "    total_pop = {}\n",
    "    total_gun = {}\n",
    "    for row in table.iterrows():\n",
    "        total_pop[row[1]['country_code']] = int(row[1]['population'].replace(\",\", \"\"))\n",
    "        total_gun[row[1]['country_code']] = float(row[1]['total_est_guns'].replace(\",\", \"\"))\n",
    "    pop[key] = total_pop\n",
    "    guns[key] = total_gun"
   ]
  },
  {
   "cell_type": "code",
   "execution_count": 223,
   "outputs": [
    {
     "ename": "TypeError",
     "evalue": "float() argument must be a string or a number, not 'dict'",
     "output_type": "error",
     "traceback": [
      "\u001B[1;31m---------------------------------------------------------------------------\u001B[0m",
      "\u001B[1;31mTypeError\u001B[0m                                 Traceback (most recent call last)",
      "\u001B[1;32m<ipython-input-223-afe6dd6e61e4>\u001B[0m in \u001B[0;36m<module>\u001B[1;34m\u001B[0m\n\u001B[0;32m     16\u001B[0m     \u001B[1;31m#NOTE: is not working yet\u001B[0m\u001B[1;33m\u001B[0m\u001B[1;33m\u001B[0m\u001B[1;33m\u001B[0m\u001B[0m\n\u001B[0;32m     17\u001B[0m     \u001B[1;32mif\u001B[0m \u001B[0mi\u001B[0m \u001B[1;33m==\u001B[0m \u001B[1;34m'Asia'\u001B[0m\u001B[1;33m:\u001B[0m\u001B[1;33m\u001B[0m\u001B[1;33m\u001B[0m\u001B[0m\n\u001B[1;32m---> 18\u001B[1;33m         \u001B[0mp\u001B[0m \u001B[1;33m=\u001B[0m \u001B[0mfloat\u001B[0m\u001B[1;33m(\u001B[0m\u001B[0mguns\u001B[0m\u001B[1;33m[\u001B[0m\u001B[0mi\u001B[0m\u001B[1;33m]\u001B[0m\u001B[1;33m)\u001B[0m\u001B[1;33m\u001B[0m\u001B[1;33m\u001B[0m\u001B[0m\n\u001B[0m\u001B[0;32m     19\u001B[0m         \u001B[0mprint\u001B[0m\u001B[1;33m(\u001B[0m\u001B[0mtype\u001B[0m\u001B[1;33m(\u001B[0m\u001B[0mp\u001B[0m\u001B[1;33m)\u001B[0m\u001B[1;33m)\u001B[0m\u001B[1;33m\u001B[0m\u001B[1;33m\u001B[0m\u001B[0m\n\u001B[0;32m     20\u001B[0m         \u001B[0mprint\u001B[0m\u001B[1;33m(\u001B[0m\u001B[0mguns\u001B[0m\u001B[1;33m[\u001B[0m\u001B[0mi\u001B[0m\u001B[1;33m]\u001B[0m\u001B[1;33m)\u001B[0m\u001B[1;33m\u001B[0m\u001B[1;33m\u001B[0m\u001B[0m\n",
      "\u001B[1;31mTypeError\u001B[0m: float() argument must be a string or a number, not 'dict'"
     ]
    },
    {
     "data": {
      "text/plain": "<Figure size 1080x576 with 1 Axes>",
      "image/png": "[encoded data removed]"
     },
     "metadata": {
      "needs_background": "light"
     },
     "output_type": "display_data"
    }
   ],
   "source": [
    "# plotting each region. x axis is the population, y axis is the guns\n",
    "titles = list(guns_per_region.keys())\n",
    "for i in titles:\n",
    "    x = np.sort(np.array(list(pop[i].values())))\n",
    "    y = np.sort(np.array(list(guns[i].values())))\n",
    "    #m, b = np.polyfit(x,y,1)\n",
    "\n",
    "    plt.figure(figsize=(15, 8))\n",
    "    plt.scatter(x, y, color=\"Blue\")\n",
    "    #plt.plot(x, (m*x) + b, color=\"Red\")\n",
    "\n",
    "    plt.xlabel(\"Population\")\n",
    "    plt.ylabel(\"Estimated Total Guns\")\n",
    "    plt.title(i)\n",
    "\n",
    "#highlight the top few countries of interest\n",
    "    #NOTE: is not working yet\n",
    "    if i == 'Asia':\n",
    "        #if guns > 200000 && population > 200000 b/c that's 1 gun to every person???\n",
    "        #if guns[i] > pop[i]:\n",
    "        plt.scatter(x,y, color = 'Purple')\n",
    "        #print(\"country:\", i, \"population:\", pop[i], \"guns:\", guns[i])\n",
    "        # maybe stick those top few countries into a dataframe for later use??\n",
    "\n",
    "    # for j in pop[i].keys():\n",
    "    #     plt.text(x=pop[i][j], y=guns[i][j], s=j)\n",
    "    # plt.show()"
   ],
   "metadata": {
    "collapsed": false,
    "pycharm": {
     "name": "#%%\n"
    }
   }
  },
  {
   "cell_type": "code",
   "execution_count": 224,
   "metadata": {},
   "outputs": [
    {
     "data": {
      "text/plain": "dict_keys(['Asia', 'Europe', 'Africa', 'Oceania', 'Americas'])"
     },
     "execution_count": 224,
     "metadata": {},
     "output_type": "execute_result"
    }
   ],
   "source": [
    "# what is this doing?\n",
    "guns = {}\n",
    "guns_per = {}\n",
    "for key in guns_per_region.keys():\n",
    "    table = guns_per_region[key]\n",
    "    total_pop = {}\n",
    "    total_gun = {}\n",
    "    for row in table.iterrows():\n",
    "        total_pop[row[1]['country_code']] = int(row[1]['total_est_guns'].replace(\",\", \"\"))\n",
    "        total_gun[row[1]['country_code']] = row[1]['guns_per_100k']\n",
    "    guns[key] = total_pop\n",
    "    guns_per[key] = total_gun\n",
    "\n",
    "guns_per.keys()"
   ]
  },
  {
   "cell_type": "code",
   "execution_count": null,
   "metadata": {},
   "outputs": [],
   "source": [
    "#\n",
    "titles = list(guns_per_region.keys())\n",
    "for i in titles:\n",
    "    x = np.sort(np.array(list(guns[i].values())))\n",
    "    y = np.sort(np.array(list(guns_per[i].values())))\n",
    "\n",
    "    plt.figure(figsize=(15, 8))\n",
    "    plt.scatter(x, y, color=\"Blue\")\n",
    "    \n",
    "    regr = LinearRegression()\n",
    "\n",
    "    regr.fit(x.reshape(-1, 1), y.reshape(-1, 1))\n",
    "    plt.plot(x.reshape(-1, 1), regr.predict(x.reshape(-1, 1)), color=\"Red\")\n",
    "\n",
    "    plt.xlabel(\"Estimated Total Guns\")\n",
    "    plt.ylabel(\"Estimated Total Guns (Per 100k People)\")\n",
    "    plt.title(i)\n",
    "\n",
    "    for j in guns[i].keys():\n",
    "        plt.text(x=guns[i][j], y=guns_per[i][j], s=j)\n",
    "    plt.show()"
   ]
  },
  {
   "cell_type": "code",
   "execution_count": null,
   "metadata": {},
   "outputs": [],
   "source": [
    "# TODO -- Found this link: https://www.indexmundi.com/facts/indicators/VC.IHR.PSRC.P5/rankings/middle-east -- has different links to more tables per region but would need to do a couple of different scrapes per region due to how the site is divied up, or could just do the one tab for the whole world (Look at bottom of table and the links to the other tables are just below it). Next on my to do list"
   ]
  },
  {
   "cell_type": "code",
   "execution_count": null,
   "metadata": {},
   "outputs": [],
   "source": [
    "gun_owners.loc[gun_owners['country_code'] == 'REU']"
   ]
  },
  {
   "cell_type": "code",
   "execution_count": null,
   "metadata": {},
   "outputs": [],
   "source": [
    "# This is just the table of every country in the world, not organized by region\n",
    "\n",
    "r = requests.get('https://www.indexmundi.com/facts/indicators/VC.IHR.PSRC.P5/rankings')\n",
    "homs = pd.read_html(r.text)[0].drop(['Rank'], axis=1)\n",
    "homs.loc[homs['Year'] == 2017]"
   ]
  },
  {
   "cell_type": "code",
   "execution_count": null,
   "metadata": {},
   "outputs": [],
   "source": [
    "# Thinking of using this data to make a graph that shows, for each of the highest gun-per-people countries, how much correlation that guns-per-people as on intentional homicides per people"
   ]
  },
  {
   "cell_type": "code",
   "execution_count": null,
   "metadata": {},
   "outputs": [],
   "source": [
    "# TODO -- Left off here (mrp)"
   ]
  },
  {
   "cell_type": "markdown",
   "source": [
    "Part 3: Exploratory data analysis"
   ],
   "metadata": {
    "collapsed": false
   }
  },
  {
   "cell_type": "code",
   "execution_count": null,
   "outputs": [],
   "source": [
    "#stuff"
   ],
   "metadata": {
    "collapsed": false,
    "pycharm": {
     "name": "#%%\n"
    }
   }
  },
  {
   "cell_type": "markdown",
   "source": [
    "Part 4: Hypothesis testing & machine learning"
   ],
   "metadata": {
    "collapsed": false
   }
  },
  {
   "cell_type": "code",
   "execution_count": null,
   "outputs": [],
   "source": [
    "#wat"
   ],
   "metadata": {
    "collapsed": false,
    "pycharm": {
     "name": "#%%\n"
    }
   }
  },
  {
   "cell_type": "markdown",
   "source": [
    "Part 5: Communication of insights attained"
   ],
   "metadata": {
    "collapsed": false
   }
  },
  {
   "cell_type": "code",
   "execution_count": null,
   "outputs": [],
   "source": [
    "#um"
   ],
   "metadata": {
    "collapsed": false,
    "pycharm": {
     "name": "#%%\n"
    }
   }
  }
 ],
 "metadata": {
  "kernelspec": {
   "display_name": "Python 3",
   "language": "python",
   "name": "python3"
  },
  "language_info": {
   "codemirror_mode": {
    "name": "ipython",
    "version": 2
   },
   "file_extension": ".py",
   "mimetype": "text/x-python",
   "name": "python",
   "nbconvert_exporter": "python",
   "pygments_lexer": "ipython2",
   "version": "3.8.5-final"
  }
 },
 "nbformat": 4,
 "nbformat_minor": 0
}